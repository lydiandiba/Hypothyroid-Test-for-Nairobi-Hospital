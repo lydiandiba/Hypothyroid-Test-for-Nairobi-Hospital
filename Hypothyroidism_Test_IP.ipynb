{
  "nbformat": 4,
  "nbformat_minor": 0,
  "metadata": {
    "colab": {
      "name": "Hypothyroidism Test IP.ipynb",
      "provenance": [],
      "collapsed_sections": [],
      "toc_visible": true,
      "authorship_tag": "ABX9TyO3v8Kz1vXlugGxfzgdQkrw",
      "include_colab_link": true
    },
    "kernelspec": {
      "name": "python3",
      "display_name": "Python 3"
    }
  },
  "cells": [
    {
      "cell_type": "markdown",
      "metadata": {
        "id": "view-in-github",
        "colab_type": "text"
      },
      "source": [
        "<a href=\"https://colab.research.google.com/github/lydiandiba/Hypothyroid-Test-for-Nairobi-Hospital/blob/master/Hypothyroidism_Test_IP.ipynb\" target=\"_parent\"><img src=\"https://colab.research.google.com/assets/colab-badge.svg\" alt=\"Open In Colab\"/></a>"
      ]
    },
    {
      "cell_type": "markdown",
      "metadata": {
        "id": "FVOhP23VBoDF",
        "colab_type": "text"
      },
      "source": [
        "# Defining the question\n",
        "\n",
        "## a) Specifying the Question\n",
        "Nairobi Hospital conducted a clinical camp to test for hypothyroidism. The data collected focused on Thyroid patients. \n",
        "Build a model that determines whether or not the patient's symptoms indicate that the patient has hypothyroid.\n",
        "\n",
        "\n",
        "## b) Defining the Metric for Success\n",
        "Our metric for success is getting a model with the best accuracy as well as\n",
        "\n",
        "\n",
        "## c) Understanding the context\n",
        "Hypothyroidism is a condition in which the thyroid gland is not able to produce enough thyroid hormone. We have been given a dataset thet contains features that give us an indication whether a patient has thyroid or not.\n",
        "\n",
        "\n",
        "## d) Recording the Experimental Design\n",
        "\n",
        "I will load and read the data, understand my data, clean the data by checking for and removing outliers, missing values and duplicates. I will then perform feature engineering and create my models to find the one with the highest accuracy. Finally, evaluate my models by challenging the solution and give my conclusion."
      ]
    },
    {
      "cell_type": "markdown",
      "metadata": {
        "id": "Jsnzag57B_jD",
        "colab_type": "text"
      },
      "source": [
        "# Reading the data"
      ]
    },
    {
      "cell_type": "code",
      "metadata": {
        "id": "fa3koTagCCiP",
        "colab_type": "code",
        "colab": {}
      },
      "source": [
        "# importing important libraries\n",
        "import pandas as pd\n",
        "import numpy as np\n",
        "import matplotlib.pyplot as plt\n",
        "import seaborn as sns"
      ],
      "execution_count": 0,
      "outputs": []
    },
    {
      "cell_type": "code",
      "metadata": {
        "id": "477t_nTmCZz0",
        "colab_type": "code",
        "outputId": "5692353f-b6d0-4397-bc6a-172d88787852",
        "colab": {
          "base_uri": "https://localhost:8080/",
          "height": 439
        }
      },
      "source": [
        "# Loading and reading the data\n",
        "hypothyroid =  pd.read_csv(\"hypothyroid.csv\")\n",
        "hypothyroid"
      ],
      "execution_count": 2,
      "outputs": [
        {
          "output_type": "execute_result",
          "data": {
            "text/html": [
              "<div>\n",
              "<style scoped>\n",
              "    .dataframe tbody tr th:only-of-type {\n",
              "        vertical-align: middle;\n",
              "    }\n",
              "\n",
              "    .dataframe tbody tr th {\n",
              "        vertical-align: top;\n",
              "    }\n",
              "\n",
              "    .dataframe thead th {\n",
              "        text-align: right;\n",
              "    }\n",
              "</style>\n",
              "<table border=\"1\" class=\"dataframe\">\n",
              "  <thead>\n",
              "    <tr style=\"text-align: right;\">\n",
              "      <th></th>\n",
              "      <th>status</th>\n",
              "      <th>age</th>\n",
              "      <th>sex</th>\n",
              "      <th>on_thyroxine</th>\n",
              "      <th>query_on_thyroxine</th>\n",
              "      <th>on_antithyroid_medication</th>\n",
              "      <th>thyroid_surgery</th>\n",
              "      <th>query_hypothyroid</th>\n",
              "      <th>query_hyperthyroid</th>\n",
              "      <th>pregnant</th>\n",
              "      <th>sick</th>\n",
              "      <th>tumor</th>\n",
              "      <th>lithium</th>\n",
              "      <th>goitre</th>\n",
              "      <th>TSH_measured</th>\n",
              "      <th>TSH</th>\n",
              "      <th>T3_measured</th>\n",
              "      <th>T3</th>\n",
              "      <th>TT4_measured</th>\n",
              "      <th>TT4</th>\n",
              "      <th>T4U_measured</th>\n",
              "      <th>T4U</th>\n",
              "      <th>FTI_measured</th>\n",
              "      <th>FTI</th>\n",
              "      <th>TBG_measured</th>\n",
              "      <th>TBG</th>\n",
              "    </tr>\n",
              "  </thead>\n",
              "  <tbody>\n",
              "    <tr>\n",
              "      <th>0</th>\n",
              "      <td>hypothyroid</td>\n",
              "      <td>72</td>\n",
              "      <td>M</td>\n",
              "      <td>f</td>\n",
              "      <td>f</td>\n",
              "      <td>f</td>\n",
              "      <td>f</td>\n",
              "      <td>f</td>\n",
              "      <td>f</td>\n",
              "      <td>f</td>\n",
              "      <td>f</td>\n",
              "      <td>f</td>\n",
              "      <td>f</td>\n",
              "      <td>f</td>\n",
              "      <td>y</td>\n",
              "      <td>30</td>\n",
              "      <td>y</td>\n",
              "      <td>0.60</td>\n",
              "      <td>y</td>\n",
              "      <td>15</td>\n",
              "      <td>y</td>\n",
              "      <td>1.48</td>\n",
              "      <td>y</td>\n",
              "      <td>10</td>\n",
              "      <td>n</td>\n",
              "      <td>?</td>\n",
              "    </tr>\n",
              "    <tr>\n",
              "      <th>1</th>\n",
              "      <td>hypothyroid</td>\n",
              "      <td>15</td>\n",
              "      <td>F</td>\n",
              "      <td>t</td>\n",
              "      <td>f</td>\n",
              "      <td>f</td>\n",
              "      <td>f</td>\n",
              "      <td>f</td>\n",
              "      <td>f</td>\n",
              "      <td>f</td>\n",
              "      <td>f</td>\n",
              "      <td>f</td>\n",
              "      <td>f</td>\n",
              "      <td>f</td>\n",
              "      <td>y</td>\n",
              "      <td>145</td>\n",
              "      <td>y</td>\n",
              "      <td>1.70</td>\n",
              "      <td>y</td>\n",
              "      <td>19</td>\n",
              "      <td>y</td>\n",
              "      <td>1.13</td>\n",
              "      <td>y</td>\n",
              "      <td>17</td>\n",
              "      <td>n</td>\n",
              "      <td>?</td>\n",
              "    </tr>\n",
              "    <tr>\n",
              "      <th>2</th>\n",
              "      <td>hypothyroid</td>\n",
              "      <td>24</td>\n",
              "      <td>M</td>\n",
              "      <td>f</td>\n",
              "      <td>f</td>\n",
              "      <td>f</td>\n",
              "      <td>f</td>\n",
              "      <td>f</td>\n",
              "      <td>f</td>\n",
              "      <td>f</td>\n",
              "      <td>f</td>\n",
              "      <td>f</td>\n",
              "      <td>f</td>\n",
              "      <td>f</td>\n",
              "      <td>y</td>\n",
              "      <td>0</td>\n",
              "      <td>y</td>\n",
              "      <td>0.20</td>\n",
              "      <td>y</td>\n",
              "      <td>4</td>\n",
              "      <td>y</td>\n",
              "      <td>1</td>\n",
              "      <td>y</td>\n",
              "      <td>0</td>\n",
              "      <td>n</td>\n",
              "      <td>?</td>\n",
              "    </tr>\n",
              "    <tr>\n",
              "      <th>3</th>\n",
              "      <td>hypothyroid</td>\n",
              "      <td>24</td>\n",
              "      <td>F</td>\n",
              "      <td>f</td>\n",
              "      <td>f</td>\n",
              "      <td>f</td>\n",
              "      <td>f</td>\n",
              "      <td>f</td>\n",
              "      <td>f</td>\n",
              "      <td>f</td>\n",
              "      <td>f</td>\n",
              "      <td>f</td>\n",
              "      <td>f</td>\n",
              "      <td>f</td>\n",
              "      <td>y</td>\n",
              "      <td>430</td>\n",
              "      <td>y</td>\n",
              "      <td>0.40</td>\n",
              "      <td>y</td>\n",
              "      <td>6</td>\n",
              "      <td>y</td>\n",
              "      <td>1.04</td>\n",
              "      <td>y</td>\n",
              "      <td>6</td>\n",
              "      <td>n</td>\n",
              "      <td>?</td>\n",
              "    </tr>\n",
              "    <tr>\n",
              "      <th>4</th>\n",
              "      <td>hypothyroid</td>\n",
              "      <td>77</td>\n",
              "      <td>M</td>\n",
              "      <td>f</td>\n",
              "      <td>f</td>\n",
              "      <td>f</td>\n",
              "      <td>f</td>\n",
              "      <td>f</td>\n",
              "      <td>f</td>\n",
              "      <td>f</td>\n",
              "      <td>f</td>\n",
              "      <td>f</td>\n",
              "      <td>f</td>\n",
              "      <td>f</td>\n",
              "      <td>y</td>\n",
              "      <td>7.30</td>\n",
              "      <td>y</td>\n",
              "      <td>1.20</td>\n",
              "      <td>y</td>\n",
              "      <td>57</td>\n",
              "      <td>y</td>\n",
              "      <td>1.28</td>\n",
              "      <td>y</td>\n",
              "      <td>44</td>\n",
              "      <td>n</td>\n",
              "      <td>?</td>\n",
              "    </tr>\n",
              "    <tr>\n",
              "      <th>...</th>\n",
              "      <td>...</td>\n",
              "      <td>...</td>\n",
              "      <td>...</td>\n",
              "      <td>...</td>\n",
              "      <td>...</td>\n",
              "      <td>...</td>\n",
              "      <td>...</td>\n",
              "      <td>...</td>\n",
              "      <td>...</td>\n",
              "      <td>...</td>\n",
              "      <td>...</td>\n",
              "      <td>...</td>\n",
              "      <td>...</td>\n",
              "      <td>...</td>\n",
              "      <td>...</td>\n",
              "      <td>...</td>\n",
              "      <td>...</td>\n",
              "      <td>...</td>\n",
              "      <td>...</td>\n",
              "      <td>...</td>\n",
              "      <td>...</td>\n",
              "      <td>...</td>\n",
              "      <td>...</td>\n",
              "      <td>...</td>\n",
              "      <td>...</td>\n",
              "      <td>...</td>\n",
              "    </tr>\n",
              "    <tr>\n",
              "      <th>3158</th>\n",
              "      <td>negative</td>\n",
              "      <td>58</td>\n",
              "      <td>F</td>\n",
              "      <td>f</td>\n",
              "      <td>f</td>\n",
              "      <td>f</td>\n",
              "      <td>f</td>\n",
              "      <td>f</td>\n",
              "      <td>f</td>\n",
              "      <td>f</td>\n",
              "      <td>f</td>\n",
              "      <td>f</td>\n",
              "      <td>f</td>\n",
              "      <td>f</td>\n",
              "      <td>y</td>\n",
              "      <td>5.80</td>\n",
              "      <td>y</td>\n",
              "      <td>1.70</td>\n",
              "      <td>y</td>\n",
              "      <td>86</td>\n",
              "      <td>y</td>\n",
              "      <td>0.91</td>\n",
              "      <td>y</td>\n",
              "      <td>95</td>\n",
              "      <td>n</td>\n",
              "      <td>?</td>\n",
              "    </tr>\n",
              "    <tr>\n",
              "      <th>3159</th>\n",
              "      <td>negative</td>\n",
              "      <td>29</td>\n",
              "      <td>F</td>\n",
              "      <td>f</td>\n",
              "      <td>f</td>\n",
              "      <td>f</td>\n",
              "      <td>f</td>\n",
              "      <td>f</td>\n",
              "      <td>f</td>\n",
              "      <td>f</td>\n",
              "      <td>f</td>\n",
              "      <td>f</td>\n",
              "      <td>f</td>\n",
              "      <td>f</td>\n",
              "      <td>y</td>\n",
              "      <td>0.80</td>\n",
              "      <td>y</td>\n",
              "      <td>1.80</td>\n",
              "      <td>y</td>\n",
              "      <td>99</td>\n",
              "      <td>y</td>\n",
              "      <td>1.01</td>\n",
              "      <td>y</td>\n",
              "      <td>98</td>\n",
              "      <td>n</td>\n",
              "      <td>?</td>\n",
              "    </tr>\n",
              "    <tr>\n",
              "      <th>3160</th>\n",
              "      <td>negative</td>\n",
              "      <td>77</td>\n",
              "      <td>M</td>\n",
              "      <td>f</td>\n",
              "      <td>f</td>\n",
              "      <td>f</td>\n",
              "      <td>f</td>\n",
              "      <td>f</td>\n",
              "      <td>f</td>\n",
              "      <td>f</td>\n",
              "      <td>f</td>\n",
              "      <td>f</td>\n",
              "      <td>f</td>\n",
              "      <td>f</td>\n",
              "      <td>y</td>\n",
              "      <td>1.20</td>\n",
              "      <td>y</td>\n",
              "      <td>0.60</td>\n",
              "      <td>y</td>\n",
              "      <td>71</td>\n",
              "      <td>y</td>\n",
              "      <td>0.68</td>\n",
              "      <td>y</td>\n",
              "      <td>104</td>\n",
              "      <td>n</td>\n",
              "      <td>?</td>\n",
              "    </tr>\n",
              "    <tr>\n",
              "      <th>3161</th>\n",
              "      <td>negative</td>\n",
              "      <td>74</td>\n",
              "      <td>F</td>\n",
              "      <td>f</td>\n",
              "      <td>f</td>\n",
              "      <td>f</td>\n",
              "      <td>f</td>\n",
              "      <td>f</td>\n",
              "      <td>f</td>\n",
              "      <td>f</td>\n",
              "      <td>f</td>\n",
              "      <td>f</td>\n",
              "      <td>f</td>\n",
              "      <td>f</td>\n",
              "      <td>y</td>\n",
              "      <td>1.30</td>\n",
              "      <td>y</td>\n",
              "      <td>0.10</td>\n",
              "      <td>y</td>\n",
              "      <td>65</td>\n",
              "      <td>y</td>\n",
              "      <td>0.48</td>\n",
              "      <td>y</td>\n",
              "      <td>137</td>\n",
              "      <td>n</td>\n",
              "      <td>?</td>\n",
              "    </tr>\n",
              "    <tr>\n",
              "      <th>3162</th>\n",
              "      <td>negative</td>\n",
              "      <td>56</td>\n",
              "      <td>F</td>\n",
              "      <td>t</td>\n",
              "      <td>f</td>\n",
              "      <td>f</td>\n",
              "      <td>f</td>\n",
              "      <td>f</td>\n",
              "      <td>f</td>\n",
              "      <td>f</td>\n",
              "      <td>f</td>\n",
              "      <td>f</td>\n",
              "      <td>f</td>\n",
              "      <td>f</td>\n",
              "      <td>y</td>\n",
              "      <td>0</td>\n",
              "      <td>y</td>\n",
              "      <td>1.80</td>\n",
              "      <td>y</td>\n",
              "      <td>139</td>\n",
              "      <td>y</td>\n",
              "      <td>0.97</td>\n",
              "      <td>y</td>\n",
              "      <td>143</td>\n",
              "      <td>n</td>\n",
              "      <td>?</td>\n",
              "    </tr>\n",
              "  </tbody>\n",
              "</table>\n",
              "<p>3163 rows × 26 columns</p>\n",
              "</div>"
            ],
            "text/plain": [
              "           status age sex on_thyroxine  ... FTI_measured  FTI TBG_measured TBG\n",
              "0     hypothyroid  72   M            f  ...            y   10            n   ?\n",
              "1     hypothyroid  15   F            t  ...            y   17            n   ?\n",
              "2     hypothyroid  24   M            f  ...            y    0            n   ?\n",
              "3     hypothyroid  24   F            f  ...            y    6            n   ?\n",
              "4     hypothyroid  77   M            f  ...            y   44            n   ?\n",
              "...           ...  ..  ..          ...  ...          ...  ...          ...  ..\n",
              "3158     negative  58   F            f  ...            y   95            n   ?\n",
              "3159     negative  29   F            f  ...            y   98            n   ?\n",
              "3160     negative  77   M            f  ...            y  104            n   ?\n",
              "3161     negative  74   F            f  ...            y  137            n   ?\n",
              "3162     negative  56   F            t  ...            y  143            n   ?\n",
              "\n",
              "[3163 rows x 26 columns]"
            ]
          },
          "metadata": {
            "tags": []
          },
          "execution_count": 2
        }
      ]
    },
    {
      "cell_type": "code",
      "metadata": {
        "id": "G-M2UlSFTvU0",
        "colab_type": "code",
        "outputId": "84c4372a-b01f-49ed-a140-40e6fcbf443f",
        "colab": {
          "base_uri": "https://localhost:8080/",
          "height": 34
        }
      },
      "source": [
        "# looking at the shape of our dataset\n",
        "hypothyroid.shape"
      ],
      "execution_count": 3,
      "outputs": [
        {
          "output_type": "execute_result",
          "data": {
            "text/plain": [
              "(3163, 26)"
            ]
          },
          "metadata": {
            "tags": []
          },
          "execution_count": 3
        }
      ]
    },
    {
      "cell_type": "code",
      "metadata": {
        "id": "QsEPZLtMwiTa",
        "colab_type": "code",
        "outputId": "2b8f2458-4d02-4e8f-eb84-f10f815f128d",
        "colab": {
          "base_uri": "https://localhost:8080/",
          "height": 855
        }
      },
      "source": [
        "# getting the statistical description of our data\n",
        "\n",
        "hypothyroid.describe().T"
      ],
      "execution_count": 4,
      "outputs": [
        {
          "output_type": "execute_result",
          "data": {
            "text/html": [
              "<div>\n",
              "<style scoped>\n",
              "    .dataframe tbody tr th:only-of-type {\n",
              "        vertical-align: middle;\n",
              "    }\n",
              "\n",
              "    .dataframe tbody tr th {\n",
              "        vertical-align: top;\n",
              "    }\n",
              "\n",
              "    .dataframe thead th {\n",
              "        text-align: right;\n",
              "    }\n",
              "</style>\n",
              "<table border=\"1\" class=\"dataframe\">\n",
              "  <thead>\n",
              "    <tr style=\"text-align: right;\">\n",
              "      <th></th>\n",
              "      <th>count</th>\n",
              "      <th>unique</th>\n",
              "      <th>top</th>\n",
              "      <th>freq</th>\n",
              "    </tr>\n",
              "  </thead>\n",
              "  <tbody>\n",
              "    <tr>\n",
              "      <th>status</th>\n",
              "      <td>3163</td>\n",
              "      <td>2</td>\n",
              "      <td>negative</td>\n",
              "      <td>3012</td>\n",
              "    </tr>\n",
              "    <tr>\n",
              "      <th>age</th>\n",
              "      <td>3163</td>\n",
              "      <td>93</td>\n",
              "      <td>?</td>\n",
              "      <td>446</td>\n",
              "    </tr>\n",
              "    <tr>\n",
              "      <th>sex</th>\n",
              "      <td>3163</td>\n",
              "      <td>3</td>\n",
              "      <td>F</td>\n",
              "      <td>2182</td>\n",
              "    </tr>\n",
              "    <tr>\n",
              "      <th>on_thyroxine</th>\n",
              "      <td>3163</td>\n",
              "      <td>2</td>\n",
              "      <td>f</td>\n",
              "      <td>2702</td>\n",
              "    </tr>\n",
              "    <tr>\n",
              "      <th>query_on_thyroxine</th>\n",
              "      <td>3163</td>\n",
              "      <td>2</td>\n",
              "      <td>f</td>\n",
              "      <td>3108</td>\n",
              "    </tr>\n",
              "    <tr>\n",
              "      <th>on_antithyroid_medication</th>\n",
              "      <td>3163</td>\n",
              "      <td>2</td>\n",
              "      <td>f</td>\n",
              "      <td>3121</td>\n",
              "    </tr>\n",
              "    <tr>\n",
              "      <th>thyroid_surgery</th>\n",
              "      <td>3163</td>\n",
              "      <td>2</td>\n",
              "      <td>f</td>\n",
              "      <td>3059</td>\n",
              "    </tr>\n",
              "    <tr>\n",
              "      <th>query_hypothyroid</th>\n",
              "      <td>3163</td>\n",
              "      <td>2</td>\n",
              "      <td>f</td>\n",
              "      <td>2922</td>\n",
              "    </tr>\n",
              "    <tr>\n",
              "      <th>query_hyperthyroid</th>\n",
              "      <td>3163</td>\n",
              "      <td>2</td>\n",
              "      <td>f</td>\n",
              "      <td>2920</td>\n",
              "    </tr>\n",
              "    <tr>\n",
              "      <th>pregnant</th>\n",
              "      <td>3163</td>\n",
              "      <td>2</td>\n",
              "      <td>f</td>\n",
              "      <td>3100</td>\n",
              "    </tr>\n",
              "    <tr>\n",
              "      <th>sick</th>\n",
              "      <td>3163</td>\n",
              "      <td>2</td>\n",
              "      <td>f</td>\n",
              "      <td>3064</td>\n",
              "    </tr>\n",
              "    <tr>\n",
              "      <th>tumor</th>\n",
              "      <td>3163</td>\n",
              "      <td>2</td>\n",
              "      <td>f</td>\n",
              "      <td>3123</td>\n",
              "    </tr>\n",
              "    <tr>\n",
              "      <th>lithium</th>\n",
              "      <td>3163</td>\n",
              "      <td>2</td>\n",
              "      <td>f</td>\n",
              "      <td>3161</td>\n",
              "    </tr>\n",
              "    <tr>\n",
              "      <th>goitre</th>\n",
              "      <td>3163</td>\n",
              "      <td>2</td>\n",
              "      <td>f</td>\n",
              "      <td>3064</td>\n",
              "    </tr>\n",
              "    <tr>\n",
              "      <th>TSH_measured</th>\n",
              "      <td>3163</td>\n",
              "      <td>2</td>\n",
              "      <td>y</td>\n",
              "      <td>2695</td>\n",
              "    </tr>\n",
              "    <tr>\n",
              "      <th>TSH</th>\n",
              "      <td>3163</td>\n",
              "      <td>240</td>\n",
              "      <td>0</td>\n",
              "      <td>894</td>\n",
              "    </tr>\n",
              "    <tr>\n",
              "      <th>T3_measured</th>\n",
              "      <td>3163</td>\n",
              "      <td>2</td>\n",
              "      <td>y</td>\n",
              "      <td>2468</td>\n",
              "    </tr>\n",
              "    <tr>\n",
              "      <th>T3</th>\n",
              "      <td>3163</td>\n",
              "      <td>70</td>\n",
              "      <td>?</td>\n",
              "      <td>695</td>\n",
              "    </tr>\n",
              "    <tr>\n",
              "      <th>TT4_measured</th>\n",
              "      <td>3163</td>\n",
              "      <td>2</td>\n",
              "      <td>y</td>\n",
              "      <td>2914</td>\n",
              "    </tr>\n",
              "    <tr>\n",
              "      <th>TT4</th>\n",
              "      <td>3163</td>\n",
              "      <td>269</td>\n",
              "      <td>?</td>\n",
              "      <td>249</td>\n",
              "    </tr>\n",
              "    <tr>\n",
              "      <th>T4U_measured</th>\n",
              "      <td>3163</td>\n",
              "      <td>2</td>\n",
              "      <td>y</td>\n",
              "      <td>2915</td>\n",
              "    </tr>\n",
              "    <tr>\n",
              "      <th>T4U</th>\n",
              "      <td>3163</td>\n",
              "      <td>159</td>\n",
              "      <td>?</td>\n",
              "      <td>248</td>\n",
              "    </tr>\n",
              "    <tr>\n",
              "      <th>FTI_measured</th>\n",
              "      <td>3163</td>\n",
              "      <td>2</td>\n",
              "      <td>y</td>\n",
              "      <td>2916</td>\n",
              "    </tr>\n",
              "    <tr>\n",
              "      <th>FTI</th>\n",
              "      <td>3163</td>\n",
              "      <td>281</td>\n",
              "      <td>?</td>\n",
              "      <td>247</td>\n",
              "    </tr>\n",
              "    <tr>\n",
              "      <th>TBG_measured</th>\n",
              "      <td>3163</td>\n",
              "      <td>2</td>\n",
              "      <td>n</td>\n",
              "      <td>2903</td>\n",
              "    </tr>\n",
              "    <tr>\n",
              "      <th>TBG</th>\n",
              "      <td>3163</td>\n",
              "      <td>53</td>\n",
              "      <td>?</td>\n",
              "      <td>2903</td>\n",
              "    </tr>\n",
              "  </tbody>\n",
              "</table>\n",
              "</div>"
            ],
            "text/plain": [
              "                          count unique       top  freq\n",
              "status                     3163      2  negative  3012\n",
              "age                        3163     93         ?   446\n",
              "sex                        3163      3         F  2182\n",
              "on_thyroxine               3163      2         f  2702\n",
              "query_on_thyroxine         3163      2         f  3108\n",
              "on_antithyroid_medication  3163      2         f  3121\n",
              "thyroid_surgery            3163      2         f  3059\n",
              "query_hypothyroid          3163      2         f  2922\n",
              "query_hyperthyroid         3163      2         f  2920\n",
              "pregnant                   3163      2         f  3100\n",
              "sick                       3163      2         f  3064\n",
              "tumor                      3163      2         f  3123\n",
              "lithium                    3163      2         f  3161\n",
              "goitre                     3163      2         f  3064\n",
              "TSH_measured               3163      2         y  2695\n",
              "TSH                        3163    240         0   894\n",
              "T3_measured                3163      2         y  2468\n",
              "T3                         3163     70         ?   695\n",
              "TT4_measured               3163      2         y  2914\n",
              "TT4                        3163    269         ?   249\n",
              "T4U_measured               3163      2         y  2915\n",
              "T4U                        3163    159         ?   248\n",
              "FTI_measured               3163      2         y  2916\n",
              "FTI                        3163    281         ?   247\n",
              "TBG_measured               3163      2         n  2903\n",
              "TBG                        3163     53         ?  2903"
            ]
          },
          "metadata": {
            "tags": []
          },
          "execution_count": 4
        }
      ]
    },
    {
      "cell_type": "code",
      "metadata": {
        "id": "MuECIrbUwS4u",
        "colab_type": "code",
        "outputId": "379d9629-4f4a-4e7d-87d0-99ee509bb18b",
        "colab": {
          "base_uri": "https://localhost:8080/",
          "height": 544
        }
      },
      "source": [
        "# getting the data information\n",
        "\n",
        "hypothyroid.info()"
      ],
      "execution_count": 5,
      "outputs": [
        {
          "output_type": "stream",
          "text": [
            "<class 'pandas.core.frame.DataFrame'>\n",
            "RangeIndex: 3163 entries, 0 to 3162\n",
            "Data columns (total 26 columns):\n",
            "status                       3163 non-null object\n",
            "age                          3163 non-null object\n",
            "sex                          3163 non-null object\n",
            "on_thyroxine                 3163 non-null object\n",
            "query_on_thyroxine           3163 non-null object\n",
            "on_antithyroid_medication    3163 non-null object\n",
            "thyroid_surgery              3163 non-null object\n",
            "query_hypothyroid            3163 non-null object\n",
            "query_hyperthyroid           3163 non-null object\n",
            "pregnant                     3163 non-null object\n",
            "sick                         3163 non-null object\n",
            "tumor                        3163 non-null object\n",
            "lithium                      3163 non-null object\n",
            "goitre                       3163 non-null object\n",
            "TSH_measured                 3163 non-null object\n",
            "TSH                          3163 non-null object\n",
            "T3_measured                  3163 non-null object\n",
            "T3                           3163 non-null object\n",
            "TT4_measured                 3163 non-null object\n",
            "TT4                          3163 non-null object\n",
            "T4U_measured                 3163 non-null object\n",
            "T4U                          3163 non-null object\n",
            "FTI_measured                 3163 non-null object\n",
            "FTI                          3163 non-null object\n",
            "TBG_measured                 3163 non-null object\n",
            "TBG                          3163 non-null object\n",
            "dtypes: object(26)\n",
            "memory usage: 642.6+ KB\n"
          ],
          "name": "stdout"
        }
      ]
    },
    {
      "cell_type": "markdown",
      "metadata": {
        "id": "O9tOJB-0w8Kh",
        "colab_type": "text"
      },
      "source": [
        "We can see that from our dataset information that our dataset has no missing values but from the description, we can spot several question marks in our data. \n",
        "The data types are also all strings regardless of most of our values being numerical.\n",
        "We will look at these issues in our data cleaning."
      ]
    },
    {
      "cell_type": "markdown",
      "metadata": {
        "id": "DKd_3pCowCU9",
        "colab_type": "text"
      },
      "source": [
        "# Data Cleaning"
      ]
    },
    {
      "cell_type": "code",
      "metadata": {
        "id": "E5VNnmAYSJQA",
        "colab_type": "code",
        "outputId": "22177fa4-9b0a-4f14-eafd-f82cf2acfdda",
        "colab": {
          "base_uri": "https://localhost:8080/",
          "height": 476
        }
      },
      "source": [
        "# Checking for null values\n",
        "\n",
        "hypothyroid.isnull().sum()"
      ],
      "execution_count": 6,
      "outputs": [
        {
          "output_type": "execute_result",
          "data": {
            "text/plain": [
              "status                       0\n",
              "age                          0\n",
              "sex                          0\n",
              "on_thyroxine                 0\n",
              "query_on_thyroxine           0\n",
              "on_antithyroid_medication    0\n",
              "thyroid_surgery              0\n",
              "query_hypothyroid            0\n",
              "query_hyperthyroid           0\n",
              "pregnant                     0\n",
              "sick                         0\n",
              "tumor                        0\n",
              "lithium                      0\n",
              "goitre                       0\n",
              "TSH_measured                 0\n",
              "TSH                          0\n",
              "T3_measured                  0\n",
              "T3                           0\n",
              "TT4_measured                 0\n",
              "TT4                          0\n",
              "T4U_measured                 0\n",
              "T4U                          0\n",
              "FTI_measured                 0\n",
              "FTI                          0\n",
              "TBG_measured                 0\n",
              "TBG                          0\n",
              "dtype: int64"
            ]
          },
          "metadata": {
            "tags": []
          },
          "execution_count": 6
        }
      ]
    },
    {
      "cell_type": "markdown",
      "metadata": {
        "id": "DCd_2VQqUr5d",
        "colab_type": "text"
      },
      "source": [
        "we can see that there are no missing values, this is because of the special characters. We will replace them with NaN values so that we can analyze them."
      ]
    },
    {
      "cell_type": "code",
      "metadata": {
        "id": "-VTw8BjpwIe5",
        "colab_type": "code",
        "colab": {}
      },
      "source": [
        "# we need to replace the question marks with null values then impute them.\n",
        "\n",
        "# Replacing the ? with missing values \n",
        "\n",
        "hypothyroid = hypothyroid.replace(['?'], np.nan)\n"
      ],
      "execution_count": 0,
      "outputs": []
    },
    {
      "cell_type": "code",
      "metadata": {
        "id": "eqZgvNV_xzoB",
        "colab_type": "code",
        "outputId": "d13b5ba3-b1b3-4a5b-9e5f-6110b78b7919",
        "colab": {
          "base_uri": "https://localhost:8080/",
          "height": 476
        }
      },
      "source": [
        "# Checking the null values after replacing the ? with nan.\n",
        "\n",
        "hypothyroid.isnull().sum()"
      ],
      "execution_count": 8,
      "outputs": [
        {
          "output_type": "execute_result",
          "data": {
            "text/plain": [
              "status                          0\n",
              "age                           446\n",
              "sex                            73\n",
              "on_thyroxine                    0\n",
              "query_on_thyroxine              0\n",
              "on_antithyroid_medication       0\n",
              "thyroid_surgery                 0\n",
              "query_hypothyroid               0\n",
              "query_hyperthyroid              0\n",
              "pregnant                        0\n",
              "sick                            0\n",
              "tumor                           0\n",
              "lithium                         0\n",
              "goitre                          0\n",
              "TSH_measured                    0\n",
              "TSH                           468\n",
              "T3_measured                     0\n",
              "T3                            695\n",
              "TT4_measured                    0\n",
              "TT4                           249\n",
              "T4U_measured                    0\n",
              "T4U                           248\n",
              "FTI_measured                    0\n",
              "FTI                           247\n",
              "TBG_measured                    0\n",
              "TBG                          2903\n",
              "dtype: int64"
            ]
          },
          "metadata": {
            "tags": []
          },
          "execution_count": 8
        }
      ]
    },
    {
      "cell_type": "markdown",
      "metadata": {
        "id": "veAxmhMC1AtB",
        "colab_type": "text"
      },
      "source": [
        "Since the missing values are quite a number. We will not drop them as they will affect the size of our dataset. We will fill in the age column with the mean ages and the sex column with the mode. \n",
        "TBG has very many missing values, we can go ahead and drop that column as well as TBG measured as the two columns are dependent on each other.\n",
        "\n",
        "We also note that the missing values in the numerical variables come about when the corresponding measured variable reads no. We will therefore fill these with 0 under the assumption that they were not measured."
      ]
    },
    {
      "cell_type": "code",
      "metadata": {
        "id": "3cOh8-Uk0FNP",
        "colab_type": "code",
        "outputId": "423d78d3-dba6-4f3d-f425-eb9188a622e2",
        "colab": {
          "base_uri": "https://localhost:8080/",
          "height": 544
        }
      },
      "source": [
        "# changing the datatypes of our column so that we can easily use them in modelling\n",
        "\n",
        "#Ensuring that all data is the correct data type.\n",
        "def create_null(X, columns):\n",
        "  for i in columns:\n",
        "    X[i] = pd.to_numeric(X[i], errors='coerce')\n",
        "    \n",
        "numerical_columns = ['age','TSH','T3', 'TT4', 'T4U', 'FTI' , 'TBG']\n",
        "create_null(hypothyroid, numerical_columns)\n",
        "hypothyroid.info()"
      ],
      "execution_count": 9,
      "outputs": [
        {
          "output_type": "stream",
          "text": [
            "<class 'pandas.core.frame.DataFrame'>\n",
            "RangeIndex: 3163 entries, 0 to 3162\n",
            "Data columns (total 26 columns):\n",
            "status                       3163 non-null object\n",
            "age                          2717 non-null float64\n",
            "sex                          3090 non-null object\n",
            "on_thyroxine                 3163 non-null object\n",
            "query_on_thyroxine           3163 non-null object\n",
            "on_antithyroid_medication    3163 non-null object\n",
            "thyroid_surgery              3163 non-null object\n",
            "query_hypothyroid            3163 non-null object\n",
            "query_hyperthyroid           3163 non-null object\n",
            "pregnant                     3163 non-null object\n",
            "sick                         3163 non-null object\n",
            "tumor                        3163 non-null object\n",
            "lithium                      3163 non-null object\n",
            "goitre                       3163 non-null object\n",
            "TSH_measured                 3163 non-null object\n",
            "TSH                          2695 non-null float64\n",
            "T3_measured                  3163 non-null object\n",
            "T3                           2468 non-null float64\n",
            "TT4_measured                 3163 non-null object\n",
            "TT4                          2914 non-null float64\n",
            "T4U_measured                 3163 non-null object\n",
            "T4U                          2915 non-null float64\n",
            "FTI_measured                 3163 non-null object\n",
            "FTI                          2916 non-null float64\n",
            "TBG_measured                 3163 non-null object\n",
            "TBG                          260 non-null float64\n",
            "dtypes: float64(7), object(19)\n",
            "memory usage: 642.6+ KB\n"
          ],
          "name": "stdout"
        }
      ]
    },
    {
      "cell_type": "code",
      "metadata": {
        "id": "sh1wz7o50uoW",
        "colab_type": "code",
        "colab": {}
      },
      "source": [
        "# Filling the missing values in the age column with mean\n",
        "\n",
        "hypothyroid['age']= hypothyroid['age'].fillna(hypothyroid['age'].mean(), axis = 0)"
      ],
      "execution_count": 0,
      "outputs": []
    },
    {
      "cell_type": "code",
      "metadata": {
        "id": "88c43tzN14M7",
        "colab_type": "code",
        "colab": {}
      },
      "source": [
        "# Filling the missing values in the sex column with mode\n",
        "\n",
        "hypothyroid.sex.fillna(hypothyroid.sex.mode()[0], inplace = True)"
      ],
      "execution_count": 0,
      "outputs": []
    },
    {
      "cell_type": "code",
      "metadata": {
        "id": "7-dKAw4Kb1U-",
        "colab_type": "code",
        "colab": {}
      },
      "source": [
        "# Dropping the missig values from the numerical columns\n",
        "\n",
        "hypothyroid.dropna(how='any', subset=['TSH', 'T3','TT4','T4U','FTI'],inplace = True)"
      ],
      "execution_count": 0,
      "outputs": []
    },
    {
      "cell_type": "code",
      "metadata": {
        "id": "nFoLjR4y1cJm",
        "colab_type": "code",
        "colab": {}
      },
      "source": [
        "# Dropping the two columns that have very many missing values\n",
        "\n",
        "hypothyroid.drop([\"TBG\",\"TBG_measured\"], axis =1, inplace = True)"
      ],
      "execution_count": 0,
      "outputs": []
    },
    {
      "cell_type": "code",
      "metadata": {
        "id": "qwV8DN5qcLwj",
        "colab_type": "code",
        "outputId": "85f3cb84-57ad-4c2d-c8c6-0ed7e7ab78b5",
        "colab": {
          "base_uri": "https://localhost:8080/",
          "height": 442
        }
      },
      "source": [
        "# confirming we have no missing values\n",
        "\n",
        "hypothyroid.isnull().sum()"
      ],
      "execution_count": 14,
      "outputs": [
        {
          "output_type": "execute_result",
          "data": {
            "text/plain": [
              "status                       0\n",
              "age                          0\n",
              "sex                          0\n",
              "on_thyroxine                 0\n",
              "query_on_thyroxine           0\n",
              "on_antithyroid_medication    0\n",
              "thyroid_surgery              0\n",
              "query_hypothyroid            0\n",
              "query_hyperthyroid           0\n",
              "pregnant                     0\n",
              "sick                         0\n",
              "tumor                        0\n",
              "lithium                      0\n",
              "goitre                       0\n",
              "TSH_measured                 0\n",
              "TSH                          0\n",
              "T3_measured                  0\n",
              "T3                           0\n",
              "TT4_measured                 0\n",
              "TT4                          0\n",
              "T4U_measured                 0\n",
              "T4U                          0\n",
              "FTI_measured                 0\n",
              "FTI                          0\n",
              "dtype: int64"
            ]
          },
          "metadata": {
            "tags": []
          },
          "execution_count": 14
        }
      ]
    },
    {
      "cell_type": "code",
      "metadata": {
        "id": "ViQ9ewqBdM53",
        "colab_type": "code",
        "outputId": "062a68e2-bd73-4799-da94-a6fecf3ce926",
        "colab": {
          "base_uri": "https://localhost:8080/",
          "height": 34
        }
      },
      "source": [
        "# Checking for duplicates\n",
        "\n",
        "hypothyroid.duplicated().sum()"
      ],
      "execution_count": 15,
      "outputs": [
        {
          "output_type": "execute_result",
          "data": {
            "text/plain": [
              "59"
            ]
          },
          "metadata": {
            "tags": []
          },
          "execution_count": 15
        }
      ]
    },
    {
      "cell_type": "markdown",
      "metadata": {
        "id": "bzd6SiAud7tO",
        "colab_type": "text"
      },
      "source": [
        "we have 59 duplicates. We will go ahead and drop them"
      ]
    },
    {
      "cell_type": "code",
      "metadata": {
        "id": "QWDTgb0FdiAQ",
        "colab_type": "code",
        "colab": {}
      },
      "source": [
        "# dropping the duplicates\n",
        "\n",
        "hypothyroid.drop_duplicates (inplace = True)"
      ],
      "execution_count": 0,
      "outputs": []
    },
    {
      "cell_type": "code",
      "metadata": {
        "id": "EwVi_95LeGnd",
        "colab_type": "code",
        "outputId": "e0b1eaef-1280-4118-f795-86681d88888a",
        "colab": {
          "base_uri": "https://localhost:8080/",
          "height": 34
        }
      },
      "source": [
        "# Checking if we have dropped our duplicates\n",
        "\n",
        "hypothyroid.duplicated().any()"
      ],
      "execution_count": 17,
      "outputs": [
        {
          "output_type": "execute_result",
          "data": {
            "text/plain": [
              "False"
            ]
          },
          "metadata": {
            "tags": []
          },
          "execution_count": 17
        }
      ]
    },
    {
      "cell_type": "code",
      "metadata": {
        "id": "jmh_PU7lvNnp",
        "colab_type": "code",
        "outputId": "9f2b3914-d171-418a-d628-f09aa979d401",
        "colab": {
          "base_uri": "https://localhost:8080/",
          "height": 119
        }
      },
      "source": [
        "hypothyroid.columns"
      ],
      "execution_count": 18,
      "outputs": [
        {
          "output_type": "execute_result",
          "data": {
            "text/plain": [
              "Index(['status', 'age', 'sex', 'on_thyroxine', 'query_on_thyroxine',\n",
              "       'on_antithyroid_medication', 'thyroid_surgery', 'query_hypothyroid',\n",
              "       'query_hyperthyroid', 'pregnant', 'sick', 'tumor', 'lithium', 'goitre',\n",
              "       'TSH_measured', 'TSH', 'T3_measured', 'T3', 'TT4_measured', 'TT4',\n",
              "       'T4U_measured', 'T4U', 'FTI_measured', 'FTI'],\n",
              "      dtype='object')"
            ]
          },
          "metadata": {
            "tags": []
          },
          "execution_count": 18
        }
      ]
    },
    {
      "cell_type": "code",
      "metadata": {
        "id": "jF9iO73UfP2k",
        "colab_type": "code",
        "outputId": "691796d5-84b1-4cd3-c2aa-d2a281505eb1",
        "colab": {
          "base_uri": "https://localhost:8080/",
          "height": 296
        }
      },
      "source": [
        "# Checking for outliers\n",
        "\n",
        "sns.boxplot(x= hypothyroid['age'])"
      ],
      "execution_count": 19,
      "outputs": [
        {
          "output_type": "execute_result",
          "data": {
            "text/plain": [
              "<matplotlib.axes._subplots.AxesSubplot at 0x7f4654984438>"
            ]
          },
          "metadata": {
            "tags": []
          },
          "execution_count": 19
        },
        {
          "output_type": "display_data",
          "data": {
            "image/png": "[encoded data removed]",
            "text/plain": [
              "<Figure size 432x288 with 1 Axes>"
            ]
          },
          "metadata": {
            "tags": []
          }
        }
      ]
    },
    {
      "cell_type": "code",
      "metadata": {
        "id": "FR_r1v0wufja",
        "colab_type": "code",
        "outputId": "f1781e47-70cb-4982-ef34-1f2c41170827",
        "colab": {
          "base_uri": "https://localhost:8080/",
          "height": 296
        }
      },
      "source": [
        "sns.boxplot(x= hypothyroid['TSH'])"
      ],
      "execution_count": 20,
      "outputs": [
        {
          "output_type": "execute_result",
          "data": {
            "text/plain": [
              "<matplotlib.axes._subplots.AxesSubplot at 0x7f4654477c18>"
            ]
          },
          "metadata": {
            "tags": []
          },
          "execution_count": 20
        },
        {
          "output_type": "display_data",
          "data": {
            "image/png": "[encoded data removed]",
            "text/plain": [
              "<Figure size 432x288 with 1 Axes>"
            ]
          },
          "metadata": {
            "tags": []
          }
        }
      ]
    },
    {
      "cell_type": "code",
      "metadata": {
        "id": "8qxomndgvkKi",
        "colab_type": "code",
        "outputId": "abbfca7c-edee-4144-f052-bc9a2aab2f7f",
        "colab": {
          "base_uri": "https://localhost:8080/",
          "height": 296
        }
      },
      "source": [
        "sns.boxplot(x= hypothyroid['T3'])"
      ],
      "execution_count": 21,
      "outputs": [
        {
          "output_type": "execute_result",
          "data": {
            "text/plain": [
              "<matplotlib.axes._subplots.AxesSubplot at 0x7f46543ff5c0>"
            ]
          },
          "metadata": {
            "tags": []
          },
          "execution_count": 21
        },
        {
          "output_type": "display_data",
          "data": {
            "image/png": "[encoded data removed]",
            "text/plain": [
              "<Figure size 432x288 with 1 Axes>"
            ]
          },
          "metadata": {
            "tags": []
          }
        }
      ]
    },
    {
      "cell_type": "code",
      "metadata": {
        "id": "AhIvmk7wvpN1",
        "colab_type": "code",
        "outputId": "087b24c9-34c8-439d-f41e-ff28e4d1b14f",
        "colab": {
          "base_uri": "https://localhost:8080/",
          "height": 296
        }
      },
      "source": [
        "sns.boxplot(x= hypothyroid['TT4'])"
      ],
      "execution_count": 22,
      "outputs": [
        {
          "output_type": "execute_result",
          "data": {
            "text/plain": [
              "<matplotlib.axes._subplots.AxesSubplot at 0x7f4654369a90>"
            ]
          },
          "metadata": {
            "tags": []
          },
          "execution_count": 22
        },
        {
          "output_type": "display_data",
          "data": {
            "image/png": "[encoded data removed]",
            "text/plain": [
              "<Figure size 432x288 with 1 Axes>"
            ]
          },
          "metadata": {
            "tags": []
          }
        }
      ]
    },
    {
      "cell_type": "code",
      "metadata": {
        "id": "8w6tsF40vvqm",
        "colab_type": "code",
        "outputId": "0ed0fb08-7467-4eb2-9180-0f0c254bca0e",
        "colab": {
          "base_uri": "https://localhost:8080/",
          "height": 296
        }
      },
      "source": [
        "sns.boxplot(x= hypothyroid['T4U'])"
      ],
      "execution_count": 23,
      "outputs": [
        {
          "output_type": "execute_result",
          "data": {
            "text/plain": [
              "<matplotlib.axes._subplots.AxesSubplot at 0x7f465433ce10>"
            ]
          },
          "metadata": {
            "tags": []
          },
          "execution_count": 23
        },
        {
          "output_type": "display_data",
          "data": {
            "image/png": "[encoded data removed]",
            "text/plain": [
              "<Figure size 432x288 with 1 Axes>"
            ]
          },
          "metadata": {
            "tags": []
          }
        }
      ]
    },
    {
      "cell_type": "code",
      "metadata": {
        "id": "TSQtpe78v1fd",
        "colab_type": "code",
        "outputId": "c54142af-479f-4359-e9d1-d5cd41347e70",
        "colab": {
          "base_uri": "https://localhost:8080/",
          "height": 296
        }
      },
      "source": [
        "sns.boxplot(x= hypothyroid['FTI'])"
      ],
      "execution_count": 24,
      "outputs": [
        {
          "output_type": "execute_result",
          "data": {
            "text/plain": [
              "<matplotlib.axes._subplots.AxesSubplot at 0x7f465430b860>"
            ]
          },
          "metadata": {
            "tags": []
          },
          "execution_count": 24
        },
        {
          "output_type": "display_data",
          "data": {
            "image/png": "[encoded data removed]",
            "text/plain": [
              "<Figure size 432x288 with 1 Axes>"
            ]
          },
          "metadata": {
            "tags": []
          }
        }
      ]
    },
    {
      "cell_type": "markdown",
      "metadata": {
        "id": "EUOOI-qmwApk",
        "colab_type": "text"
      },
      "source": [
        "All the numerical variables have outliers but we will not drop them. we will create our models with the variables as they are."
      ]
    },
    {
      "cell_type": "markdown",
      "metadata": {
        "id": "uo6joP2XeTYV",
        "colab_type": "text"
      },
      "source": [
        "# Exploratory data analysis"
      ]
    },
    {
      "cell_type": "markdown",
      "metadata": {
        "id": "eyxYaJTvebwo",
        "colab_type": "text"
      },
      "source": [
        "## Univariate Analysis"
      ]
    },
    {
      "cell_type": "code",
      "metadata": {
        "id": "uA8Cd6-behEo",
        "colab_type": "code",
        "colab": {}
      },
      "source": [
        "# Improving visual appearance of graphs\n",
        "sns.set(rc={'figure.figsize':(10, 8)})\n",
        "# Ensure all columns are displayed\n",
        "pd.pandas.set_option('display.max_columns', None)\n"
      ],
      "execution_count": 0,
      "outputs": []
    },
    {
      "cell_type": "code",
      "metadata": {
        "id": "2TL0J6077Cbb",
        "colab_type": "code",
        "outputId": "5a1b8452-2e44-40fb-88ce-4ead68bbfcbf",
        "colab": {
          "base_uri": "https://localhost:8080/",
          "height": 592
        }
      },
      "source": [
        "#Distribution of the disease status.\n",
        "hypothyroid['status'].value_counts().plot.bar(title='Freq dist of status', color = 'blue')\n",
        "plt.ylabel('count')\n",
        "plt.xlabel('status')"
      ],
      "execution_count": 26,
      "outputs": [
        {
          "output_type": "execute_result",
          "data": {
            "text/plain": [
              "Text(0.5, 0, 'status')"
            ]
          },
          "metadata": {
            "tags": []
          },
          "execution_count": 26
        },
        {
          "output_type": "display_data",
          "data": {
            "image/png": "[encoded data removed]",
            "text/plain": [
              "<Figure size 720x576 with 1 Axes>"
            ]
          },
          "metadata": {
            "tags": []
          }
        }
      ]
    },
    {
      "cell_type": "markdown",
      "metadata": {
        "id": "maAJgkUF7XQw",
        "colab_type": "text"
      },
      "source": [
        "This shows we have a high count for patients who tested negative for hypothyroid. This also shows that our data is positive skewed."
      ]
    },
    {
      "cell_type": "code",
      "metadata": {
        "id": "SzTUSZv472th",
        "colab_type": "code",
        "outputId": "8ccb6c68-557d-4999-aedf-79a6013ac678",
        "colab": {
          "base_uri": "https://localhost:8080/",
          "height": 519
        }
      },
      "source": [
        "#sex count.\n",
        "\n",
        "sns.set(style=\"darkgrid\")\n",
        "sns.countplot(x=\"sex\", data=hypothyroid)"
      ],
      "execution_count": 27,
      "outputs": [
        {
          "output_type": "execute_result",
          "data": {
            "text/plain": [
              "<matplotlib.axes._subplots.AxesSubplot at 0x7f4654272be0>"
            ]
          },
          "metadata": {
            "tags": []
          },
          "execution_count": 27
        },
        {
          "output_type": "display_data",
          "data": {
            "image/png": "[encoded data removed]",
            "text/plain": [
              "<Figure size 720x576 with 1 Axes>"
            ]
          },
          "metadata": {
            "tags": []
          }
        }
      ]
    },
    {
      "cell_type": "markdown",
      "metadata": {
        "id": "du2Z0ZtU8HwZ",
        "colab_type": "text"
      },
      "source": [
        "We have more females than males in our dataset. This is because hypothyroid affects more females as compared to males."
      ]
    },
    {
      "cell_type": "code",
      "metadata": {
        "id": "Ej8Luh3w8dVw",
        "colab_type": "code",
        "outputId": "fb37773c-6f5a-4408-a711-f4f3ad66e504",
        "colab": {
          "base_uri": "https://localhost:8080/",
          "height": 519
        }
      },
      "source": [
        "# age distribution\n",
        "\n",
        "sns.distplot( hypothyroid['age'], bins=20, color = 'blue')"
      ],
      "execution_count": 28,
      "outputs": [
        {
          "output_type": "execute_result",
          "data": {
            "text/plain": [
              "<matplotlib.axes._subplots.AxesSubplot at 0x7f46541c2748>"
            ]
          },
          "metadata": {
            "tags": []
          },
          "execution_count": 28
        },
        {
          "output_type": "display_data",
          "data": {
            "image/png": "[encoded data removed]",
            "text/plain": [
              "<Figure size 720x576 with 1 Axes>"
            ]
          },
          "metadata": {
            "tags": []
          }
        }
      ]
    },
    {
      "cell_type": "markdown",
      "metadata": {
        "id": "6SedB-KamP_8",
        "colab_type": "text"
      },
      "source": [
        "Most patients lie within the 50's age bracket."
      ]
    },
    {
      "cell_type": "markdown",
      "metadata": {
        "id": "gzHT6H9SxHLD",
        "colab_type": "text"
      },
      "source": [
        "## Bivariate Analysis"
      ]
    },
    {
      "cell_type": "code",
      "metadata": {
        "id": "OSJ6fP2MxAJ5",
        "colab_type": "code",
        "outputId": "b4f33735-7ea6-406c-8f2f-71a3a05235c5",
        "colab": {
          "base_uri": "https://localhost:8080/",
          "height": 502
        }
      },
      "source": [
        "# count for on thyroxine and query on thyroxine\n",
        "\n",
        "fig, ax =plt.subplots(1,2)\n",
        "sns.countplot(hypothyroid['on_thyroxine'], ax=ax[0])\n",
        "sns.countplot(hypothyroid['query_on_thyroxine'], ax=ax[1])\n",
        "fig.show()"
      ],
      "execution_count": 29,
      "outputs": [
        {
          "output_type": "display_data",
          "data": {
            "image/png": "[encoded data removed]",
            "text/plain": [
              "<Figure size 720x576 with 2 Axes>"
            ]
          },
          "metadata": {
            "tags": []
          }
        }
      ]
    },
    {
      "cell_type": "markdown",
      "metadata": {
        "id": "w8wEY_vn9f5k",
        "colab_type": "text"
      },
      "source": [
        "This shows that most people are not on thyroxine as well as almost no queries on thyroxine. This could be attributed by the fact that most patients tested negative."
      ]
    },
    {
      "cell_type": "code",
      "metadata": {
        "id": "-QQWvT-9-AfI",
        "colab_type": "code",
        "outputId": "9dc84b13-72a1-4b60-83d3-bacd3045bd96",
        "colab": {
          "base_uri": "https://localhost:8080/",
          "height": 502
        }
      },
      "source": [
        "fig, ax =plt.subplots(1,3)\n",
        "sns.countplot(hypothyroid['on_antithyroid_medication'], ax=ax[0])\n",
        "sns.countplot(hypothyroid['thyroid_surgery'], ax=ax[1])\n",
        "sns.countplot(hypothyroid['query_hypothyroid'], ax=ax[2])\n",
        "fig.show()"
      ],
      "execution_count": 30,
      "outputs": [
        {
          "output_type": "display_data",
          "data": {
            "image/png": "[encoded data removed]",
            "text/plain": [
              "<Figure size 720x576 with 3 Axes>"
            ]
          },
          "metadata": {
            "tags": []
          }
        }
      ]
    },
    {
      "cell_type": "markdown",
      "metadata": {
        "id": "HrHVNreQ-xNm",
        "colab_type": "text"
      },
      "source": [
        "This shows that most patients are not on antithyroid medication, most patients have not had thyroid surgery and also most patients have not inquired on hypothyroid."
      ]
    },
    {
      "cell_type": "code",
      "metadata": {
        "id": "Z1fFAZFM-Kma",
        "colab_type": "code",
        "outputId": "13714455-80e1-4a02-eb7b-6d85d3c81561",
        "colab": {
          "base_uri": "https://localhost:8080/",
          "height": 519
        }
      },
      "source": [
        "fig, ax =plt.subplots(1,4,)\n",
        "sns.countplot(hypothyroid['lithium'], ax=ax[0])\n",
        "sns.countplot(hypothyroid['sick'], ax=ax[1] )\n",
        "sns.countplot(hypothyroid['pregnant'], ax=ax[2])  \n",
        "sns.countplot(hypothyroid['goitre'], ax=ax[3]) "
      ],
      "execution_count": 31,
      "outputs": [
        {
          "output_type": "execute_result",
          "data": {
            "text/plain": [
              "<matplotlib.axes._subplots.AxesSubplot at 0x7f4653eed908>"
            ]
          },
          "metadata": {
            "tags": []
          },
          "execution_count": 31
        },
        {
          "output_type": "display_data",
          "data": {
            "image/png": "[encoded data removed]",
            "text/plain": [
              "<Figure size 720x576 with 4 Axes>"
            ]
          },
          "metadata": {
            "tags": []
          }
        }
      ]
    },
    {
      "cell_type": "markdown",
      "metadata": {
        "id": "DcyQzzWJ_VK-",
        "colab_type": "text"
      },
      "source": [
        "None of the patients tested for lithium. Most patients were not sick nor pregnant and also most patients did not have goitre."
      ]
    },
    {
      "cell_type": "code",
      "metadata": {
        "id": "J-yC11SB_0Yu",
        "colab_type": "code",
        "outputId": "8b043552-5c8e-413d-8436-c1a7446342b4",
        "colab": {
          "base_uri": "https://localhost:8080/",
          "height": 285
        }
      },
      "source": [
        "#Distribution os the hypothyroid disease in both genders.\n",
        "#\n",
        "sns.set(style=\"whitegrid\")\n",
        "colors = [\"#4374B3\", \"#E75480\"]\n",
        "sns.set_palette(sns.color_palette(colors))\n",
        "f, ax = plt.subplots(figsize=(8, 4))\n",
        "ax = sns.countplot(x=hypothyroid['status'], hue=hypothyroid['sex'], data=hypothyroid,orient=\"h\", alpha=1)"
      ],
      "execution_count": 32,
      "outputs": [
        {
          "output_type": "display_data",
          "data": {
            "image/png": "[encoded data removed]",
            "text/plain": [
              "<Figure size 576x288 with 1 Axes>"
            ]
          },
          "metadata": {
            "tags": []
          }
        }
      ]
    },
    {
      "cell_type": "markdown",
      "metadata": {
        "id": "qDB2MSB7AJNc",
        "colab_type": "text"
      },
      "source": [
        "We can still notice the same patern where most females tested negative compared to males. As well as those who tested positive for hypothyroid, most were females."
      ]
    },
    {
      "cell_type": "code",
      "metadata": {
        "id": "SrZr-RuKsDhY",
        "colab_type": "code",
        "outputId": "75c1217a-07cf-45e1-8b2e-db4dd4910268",
        "colab": {
          "base_uri": "https://localhost:8080/",
          "height": 489
        }
      },
      "source": [
        " #Plotting a heatmap to show correlations between variables\n",
        "#\n",
        "corr = hypothyroid[['TSH', 'T3', 'TT4', 'T4U', 'FTI', 'age']].corr()\n",
        "plt.figure(figsize = (13, 8))\n",
        "sns.heatmap(corr, cmap=None, annot = True, center = 0,)\n",
        "plt.show()"
      ],
      "execution_count": 33,
      "outputs": [
        {
          "output_type": "display_data",
          "data": {
            "image/png": "[encoded data removed]",
            "text/plain": [
              "<Figure size 936x576 with 2 Axes>"
            ]
          },
          "metadata": {
            "tags": []
          }
        }
      ]
    },
    {
      "cell_type": "markdown",
      "metadata": {
        "id": "ExdIBCgStb7-",
        "colab_type": "text"
      },
      "source": [
        "There is some correlation between FTI and TT4  at 0.68 and between TT4 and T3 at 0.58"
      ]
    },
    {
      "cell_type": "markdown",
      "metadata": {
        "id": "-NHYQ7V9bg6T",
        "colab_type": "text"
      },
      "source": [
        "# Modeling"
      ]
    },
    {
      "cell_type": "markdown",
      "metadata": {
        "id": "Ym4Cc73XwyDa",
        "colab_type": "text"
      },
      "source": [
        "## Baseline Model\n",
        " Logistic Regression will be my baseline model since our depedent variable is categorical"
      ]
    },
    {
      "cell_type": "code",
      "metadata": {
        "id": "vcQu3TfRu8uW",
        "colab_type": "code",
        "outputId": "821ada04-685b-4d87-804e-448d90a63bae",
        "colab": {
          "base_uri": "https://localhost:8080/",
          "height": 34
        }
      },
      "source": [
        "# Import label encoder \n",
        "from sklearn import preprocessing \n",
        "  \n",
        "# label_encoder object knows how to understand word labels. \n",
        "label_encoder = preprocessing.LabelEncoder() \n",
        "  \n",
        "# Encode labels in column 'species'. \n",
        "hypothyroid['status']= label_encoder.fit_transform(hypothyroid['status']) \n",
        "  \n",
        "hypothyroid['status'].unique()"
      ],
      "execution_count": 34,
      "outputs": [
        {
          "output_type": "execute_result",
          "data": {
            "text/plain": [
              "array([0, 1])"
            ]
          },
          "metadata": {
            "tags": []
          },
          "execution_count": 34
        }
      ]
    },
    {
      "cell_type": "code",
      "metadata": {
        "id": "b2noDI1NwmX5",
        "colab_type": "code",
        "colab": {}
      },
      "source": [
        "from sklearn.model_selection import train_test_split\n",
        "\n",
        "# Split the independent and dependent variables\n",
        "# We want to predict if someone has hyperthyroid or not, so let's use status as our Y \n",
        "y = hypothyroid['status'].values\n",
        "\n",
        "\n",
        "test_features = hypothyroid.columns.to_list()\n",
        "test_features.remove('status')\n",
        "\n",
        "# We should be able to use nearly all the other features, but for the sake of simplifying our visualization later, we only pick a few.\n",
        "x = hypothyroid[test_features]\n",
        "\n",
        "#Feature engineering.\n",
        "x = pd.get_dummies(x)\n",
        "X = x.values"
      ],
      "execution_count": 0,
      "outputs": []
    },
    {
      "cell_type": "code",
      "metadata": {
        "id": "I_yeb_21xlzj",
        "colab_type": "code",
        "outputId": "5e9e1f4a-dc76-4c69-def1-52c027b6e273",
        "colab": {
          "base_uri": "https://localhost:8080/",
          "height": 555
        }
      },
      "source": [
        "# Training our Model using 70% of our data\n",
        "\n",
        "from sklearn.model_selection import train_test_split\n",
        "X_train, X_test, y_train, y_test = train_test_split(X, y, test_size = .3, random_state=25)\n",
        "\n",
        "# Fitting our model\n",
        "# \n",
        "from sklearn.linear_model import LogisticRegression\n",
        "\n",
        "LogReg = LogisticRegression()\n",
        "LogReg.fit(X_train, y_train)\n",
        "\n",
        "# Using our model to make a prediction\n",
        "#\n",
        "y_pred = LogReg.predict(X_test)\n",
        "\n",
        "# To compare the actual output values for P_test with the predicted values\n",
        "# \n",
        "h = pd.DataFrame({'Actual': y_test, 'Predicted': y_pred})\n",
        "h\n",
        "\n"
      ],
      "execution_count": 36,
      "outputs": [
        {
          "output_type": "stream",
          "text": [
            "/usr/local/lib/python3.6/dist-packages/sklearn/linear_model/_logistic.py:940: ConvergenceWarning: lbfgs failed to converge (status=1):\n",
            "STOP: TOTAL NO. of ITERATIONS REACHED LIMIT.\n",
            "\n",
            "Increase the number of iterations (max_iter) or scale the data as shown in:\n",
            "    https://scikit-learn.org/stable/modules/preprocessing.html\n",
            "Please also refer to the documentation for alternative solver options:\n",
            "    https://scikit-learn.org/stable/modules/linear_model.html#logistic-regression\n",
            "  extra_warning_msg=_LOGISTIC_SOLVER_CONVERGENCE_MSG)\n"
          ],
          "name": "stderr"
        },
        {
          "output_type": "execute_result",
          "data": {
            "text/html": [
              "<div>\n",
              "<style scoped>\n",
              "    .dataframe tbody tr th:only-of-type {\n",
              "        vertical-align: middle;\n",
              "    }\n",
              "\n",
              "    .dataframe tbody tr th {\n",
              "        vertical-align: top;\n",
              "    }\n",
              "\n",
              "    .dataframe thead th {\n",
              "        text-align: right;\n",
              "    }\n",
              "</style>\n",
              "<table border=\"1\" class=\"dataframe\">\n",
              "  <thead>\n",
              "    <tr style=\"text-align: right;\">\n",
              "      <th></th>\n",
              "      <th>Actual</th>\n",
              "      <th>Predicted</th>\n",
              "    </tr>\n",
              "  </thead>\n",
              "  <tbody>\n",
              "    <tr>\n",
              "      <th>0</th>\n",
              "      <td>1</td>\n",
              "      <td>1</td>\n",
              "    </tr>\n",
              "    <tr>\n",
              "      <th>1</th>\n",
              "      <td>1</td>\n",
              "      <td>1</td>\n",
              "    </tr>\n",
              "    <tr>\n",
              "      <th>2</th>\n",
              "      <td>1</td>\n",
              "      <td>1</td>\n",
              "    </tr>\n",
              "    <tr>\n",
              "      <th>3</th>\n",
              "      <td>1</td>\n",
              "      <td>1</td>\n",
              "    </tr>\n",
              "    <tr>\n",
              "      <th>4</th>\n",
              "      <td>1</td>\n",
              "      <td>1</td>\n",
              "    </tr>\n",
              "    <tr>\n",
              "      <th>...</th>\n",
              "      <td>...</td>\n",
              "      <td>...</td>\n",
              "    </tr>\n",
              "    <tr>\n",
              "      <th>697</th>\n",
              "      <td>1</td>\n",
              "      <td>1</td>\n",
              "    </tr>\n",
              "    <tr>\n",
              "      <th>698</th>\n",
              "      <td>1</td>\n",
              "      <td>1</td>\n",
              "    </tr>\n",
              "    <tr>\n",
              "      <th>699</th>\n",
              "      <td>1</td>\n",
              "      <td>1</td>\n",
              "    </tr>\n",
              "    <tr>\n",
              "      <th>700</th>\n",
              "      <td>1</td>\n",
              "      <td>1</td>\n",
              "    </tr>\n",
              "    <tr>\n",
              "      <th>701</th>\n",
              "      <td>1</td>\n",
              "      <td>1</td>\n",
              "    </tr>\n",
              "  </tbody>\n",
              "</table>\n",
              "<p>702 rows × 2 columns</p>\n",
              "</div>"
            ],
            "text/plain": [
              "     Actual  Predicted\n",
              "0         1          1\n",
              "1         1          1\n",
              "2         1          1\n",
              "3         1          1\n",
              "4         1          1\n",
              "..      ...        ...\n",
              "697       1          1\n",
              "698       1          1\n",
              "699       1          1\n",
              "700       1          1\n",
              "701       1          1\n",
              "\n",
              "[702 rows x 2 columns]"
            ]
          },
          "metadata": {
            "tags": []
          },
          "execution_count": 36
        }
      ]
    },
    {
      "cell_type": "code",
      "metadata": {
        "id": "PxszEdPl-Kln",
        "colab_type": "code",
        "outputId": "32f0f66d-3421-4926-b94b-f13004ebb53e",
        "colab": {
          "base_uri": "https://localhost:8080/",
          "height": 51
        }
      },
      "source": [
        "# Evaluating the model\n",
        "#\n",
        "from sklearn.metrics import confusion_matrix\n",
        "confusion_matrix = confusion_matrix(y_test, y_pred)\n",
        "confusion_matrix\n"
      ],
      "execution_count": 37,
      "outputs": [
        {
          "output_type": "execute_result",
          "data": {
            "text/plain": [
              "array([[ 31,  13],\n",
              "       [  1, 657]])"
            ]
          },
          "metadata": {
            "tags": []
          },
          "execution_count": 37
        }
      ]
    },
    {
      "cell_type": "code",
      "metadata": {
        "id": "Ra1fuhaO-5dN",
        "colab_type": "code",
        "outputId": "b549f1f5-5fd8-4364-efc9-3de59a1b47c8",
        "colab": {
          "base_uri": "https://localhost:8080/",
          "height": 34
        }
      },
      "source": [
        "#Checking the accuracy of predictions.\n",
        "#\n",
        "from sklearn.metrics import confusion_matrix,accuracy_score\n",
        "print( accuracy_score(y_test, y_pred))\n",
        "#print(confusion_matrix(y_test, y_pred))"
      ],
      "execution_count": 38,
      "outputs": [
        {
          "output_type": "stream",
          "text": [
            "0.98005698005698\n"
          ],
          "name": "stdout"
        }
      ]
    },
    {
      "cell_type": "markdown",
      "metadata": {
        "id": "4800nKN5Qx7N",
        "colab_type": "text"
      },
      "source": [
        "Our baseline accuracy is 98% meaning this is a good model, but there is a slight chance of overfitting."
      ]
    },
    {
      "cell_type": "markdown",
      "metadata": {
        "id": "NQtcwP5ZblSX",
        "colab_type": "text"
      },
      "source": [
        "## Random Forest"
      ]
    },
    {
      "cell_type": "markdown",
      "metadata": {
        "id": "4ONawwueQ-KG",
        "colab_type": "text"
      },
      "source": [
        "We will now  go ahead and create other models to compare with our baseline model for the best accuracy"
      ]
    },
    {
      "cell_type": "code",
      "metadata": {
        "id": "-B_9r4RScCnj",
        "colab_type": "code",
        "outputId": "bb8adfce-d088-4af0-f350-26902ec1daae",
        "colab": {
          "base_uri": "https://localhost:8080/",
          "height": 204
        }
      },
      "source": [
        "# Train using 70% of the data.\n",
        "X_train, X_test, y_train, y_test = train_test_split(X, y, test_size=0.3, random_state=0)\n",
        "\n",
        "\n",
        "# Import the model\n",
        "from sklearn.ensemble import RandomForestClassifier\n",
        "\n",
        "# The random_state variable is here to guarantee that we all see the same numbers.\n",
        "#fitting our training \n",
        "\n",
        "forest = RandomForestClassifier(n_estimators = 100, random_state=42, min_samples_split = 20, max_depth=5)\n",
        "forest = forest.fit(X_train, y_train)\n",
        "\n",
        "# Predict based on the model we've trained\n",
        "y_pred = forest.predict(X_test)\n",
        "\n",
        "\n",
        "comparison_frame = pd.DataFrame({'Actual': y_test.flatten(), 'Predicted': y_pred.flatten()})\n",
        "\n",
        "comparison_frame.head()"
      ],
      "execution_count": 39,
      "outputs": [
        {
          "output_type": "execute_result",
          "data": {
            "text/html": [
              "<div>\n",
              "<style scoped>\n",
              "    .dataframe tbody tr th:only-of-type {\n",
              "        vertical-align: middle;\n",
              "    }\n",
              "\n",
              "    .dataframe tbody tr th {\n",
              "        vertical-align: top;\n",
              "    }\n",
              "\n",
              "    .dataframe thead th {\n",
              "        text-align: right;\n",
              "    }\n",
              "</style>\n",
              "<table border=\"1\" class=\"dataframe\">\n",
              "  <thead>\n",
              "    <tr style=\"text-align: right;\">\n",
              "      <th></th>\n",
              "      <th>Actual</th>\n",
              "      <th>Predicted</th>\n",
              "    </tr>\n",
              "  </thead>\n",
              "  <tbody>\n",
              "    <tr>\n",
              "      <th>0</th>\n",
              "      <td>1</td>\n",
              "      <td>1</td>\n",
              "    </tr>\n",
              "    <tr>\n",
              "      <th>1</th>\n",
              "      <td>1</td>\n",
              "      <td>1</td>\n",
              "    </tr>\n",
              "    <tr>\n",
              "      <th>2</th>\n",
              "      <td>0</td>\n",
              "      <td>0</td>\n",
              "    </tr>\n",
              "    <tr>\n",
              "      <th>3</th>\n",
              "      <td>1</td>\n",
              "      <td>1</td>\n",
              "    </tr>\n",
              "    <tr>\n",
              "      <th>4</th>\n",
              "      <td>1</td>\n",
              "      <td>1</td>\n",
              "    </tr>\n",
              "  </tbody>\n",
              "</table>\n",
              "</div>"
            ],
            "text/plain": [
              "   Actual  Predicted\n",
              "0       1          1\n",
              "1       1          1\n",
              "2       0          0\n",
              "3       1          1\n",
              "4       1          1"
            ]
          },
          "metadata": {
            "tags": []
          },
          "execution_count": 39
        }
      ]
    },
    {
      "cell_type": "code",
      "metadata": {
        "id": "2lzRqZ-UguLc",
        "colab_type": "code",
        "outputId": "416002bb-73c4-4124-85f5-0c5bec25eb76",
        "colab": {
          "base_uri": "https://localhost:8080/",
          "height": 68
        }
      },
      "source": [
        "from sklearn import metrics\n",
        "\n",
        "# And now we assess the errors\n",
        "print('Mean Absolute Error:', metrics.mean_absolute_error(y_test, y_pred))  \n",
        "print('Mean Squared Error:', metrics.mean_squared_error(y_test, y_pred))  \n",
        "print('Root Mean Squared Error:', np.sqrt(metrics.mean_squared_error(y_test, y_pred)))\n"
      ],
      "execution_count": 40,
      "outputs": [
        {
          "output_type": "stream",
          "text": [
            "Mean Absolute Error: 0.014245014245014245\n",
            "Mean Squared Error: 0.014245014245014245\n",
            "Root Mean Squared Error: 0.11935247900657214\n"
          ],
          "name": "stdout"
        }
      ]
    },
    {
      "cell_type": "markdown",
      "metadata": {
        "id": "cU9yoG81usll",
        "colab_type": "text"
      },
      "source": [
        "A mean Absolute Error of 0.019 is good. Shows the model is performing pretty well."
      ]
    },
    {
      "cell_type": "code",
      "metadata": {
        "id": "knmlrr4F_0LO",
        "colab_type": "code",
        "outputId": "f443d00d-058b-448d-d657-56c7ee3d805c",
        "colab": {
          "base_uri": "https://localhost:8080/",
          "height": 846
        }
      },
      "source": [
        "# Visualizing our random forest\n",
        "\n",
        "from sklearn.tree import export_graphviz\n",
        "from sklearn.externals.six import StringIO  \n",
        "from IPython.display import Image  \n",
        "import pydotplus\n",
        " \n",
        "test_features_X = x.columns.to_list()\n",
        "\n",
        "dot_data = StringIO()\n",
        "\n",
        "# pick a specific tree from the forest. we pick tree 35\n",
        "tree = forest.estimators_[35]\n",
        "\n",
        "export_graphviz(tree, out_file=dot_data,  \n",
        "                filled=True, rounded=True,\n",
        "                special_characters=True, feature_names = test_features_X)\n",
        "graph = pydotplus.graph_from_dot_data(dot_data.getvalue())  \n",
        "graph.write_png('hypothyroid')\n",
        "Image(graph.create_png())\n"
      ],
      "execution_count": 41,
      "outputs": [
        {
          "output_type": "stream",
          "text": [
            "/usr/local/lib/python3.6/dist-packages/sklearn/externals/six.py:31: FutureWarning: The module is deprecated in version 0.21 and will be removed in version 0.23 since we've dropped support for Python 2.7. Please rely on the official version of six (https://pypi.org/project/six/).\n",
            "  \"(https://pypi.org/project/six/).\", FutureWarning)\n"
          ],
          "name": "stderr"
        },
        {
          "output_type": "execute_result",
          "data": {
            "image/png": "[encoded data removed]",
            "text/plain": [
              "<IPython.core.display.Image object>"
            ]
          },
          "metadata": {
            "tags": []
          },
          "execution_count": 41
        }
      ]
    },
    {
      "cell_type": "code",
      "metadata": {
        "id": "8RGMwFntBpik",
        "colab_type": "code",
        "outputId": "7cb9a47b-269d-489a-ed8a-9580ca75f70e",
        "colab": {
          "base_uri": "https://localhost:8080/",
          "height": 666
        }
      },
      "source": [
        "# Get numerical feature importances\n",
        "importance = list(tree.feature_importances_)\n",
        "\n",
        "# We now use some Python magic to connect each feature with its importance\n",
        "# List of tuples with variable and importance\n",
        "feature_importance = [(feature_names, round(importance, 2)) for feature_names, importance in zip(test_features_X, importance)]\n",
        "\n",
        "print(feature_importance) #this already has all the information we need, but it can be tricky to see when there are too many features.\n",
        "print()\n",
        "\n",
        "# Nice to have: We can sort the values in descending order, since we care about the most important features first.\n",
        "feature_importance = sorted(feature_importance, key = lambda x: x[1], reverse = True)\n",
        "\n",
        "# Print out the feature and importances \n",
        "[print('Variable: {:20} Importance: {}'.format(*pair)) for pair in feature_importance];"
      ],
      "execution_count": 42,
      "outputs": [
        {
          "output_type": "stream",
          "text": [
            "[('age', 0.0), ('TSH', 0.0), ('T3', 0.0), ('TT4', 0.05), ('T4U', 0.0), ('FTI', 0.92), ('sex_F', 0.0), ('sex_M', 0.0), ('on_thyroxine_f', 0.0), ('on_thyroxine_t', 0.0), ('query_on_thyroxine_f', 0.0), ('query_on_thyroxine_t', 0.0), ('on_antithyroid_medication_f', 0.0), ('on_antithyroid_medication_t', 0.0), ('thyroid_surgery_f', 0.0), ('thyroid_surgery_t', 0.0), ('query_hypothyroid_f', 0.02), ('query_hypothyroid_t', 0.0), ('query_hyperthyroid_f', 0.0), ('query_hyperthyroid_t', 0.0), ('pregnant_f', 0.0), ('pregnant_t', 0.0), ('sick_f', 0.0), ('sick_t', 0.0), ('tumor_f', 0.0), ('tumor_t', 0.0), ('lithium_f', 0.0), ('lithium_t', 0.0), ('goitre_f', 0.0), ('goitre_t', 0.0), ('TSH_measured_y', 0.0), ('T3_measured_y', 0.0), ('TT4_measured_y', 0.0), ('T4U_measured_y', 0.0), ('FTI_measured_y', 0.0)]\n",
            "\n",
            "Variable: FTI                  Importance: 0.92\n",
            "Variable: TT4                  Importance: 0.05\n",
            "Variable: query_hypothyroid_f  Importance: 0.02\n",
            "Variable: age                  Importance: 0.0\n",
            "Variable: TSH                  Importance: 0.0\n",
            "Variable: T3                   Importance: 0.0\n",
            "Variable: T4U                  Importance: 0.0\n",
            "Variable: sex_F                Importance: 0.0\n",
            "Variable: sex_M                Importance: 0.0\n",
            "Variable: on_thyroxine_f       Importance: 0.0\n",
            "Variable: on_thyroxine_t       Importance: 0.0\n",
            "Variable: query_on_thyroxine_f Importance: 0.0\n",
            "Variable: query_on_thyroxine_t Importance: 0.0\n",
            "Variable: on_antithyroid_medication_f Importance: 0.0\n",
            "Variable: on_antithyroid_medication_t Importance: 0.0\n",
            "Variable: thyroid_surgery_f    Importance: 0.0\n",
            "Variable: thyroid_surgery_t    Importance: 0.0\n",
            "Variable: query_hypothyroid_t  Importance: 0.0\n",
            "Variable: query_hyperthyroid_f Importance: 0.0\n",
            "Variable: query_hyperthyroid_t Importance: 0.0\n",
            "Variable: pregnant_f           Importance: 0.0\n",
            "Variable: pregnant_t           Importance: 0.0\n",
            "Variable: sick_f               Importance: 0.0\n",
            "Variable: sick_t               Importance: 0.0\n",
            "Variable: tumor_f              Importance: 0.0\n",
            "Variable: tumor_t              Importance: 0.0\n",
            "Variable: lithium_f            Importance: 0.0\n",
            "Variable: lithium_t            Importance: 0.0\n",
            "Variable: goitre_f             Importance: 0.0\n",
            "Variable: goitre_t             Importance: 0.0\n",
            "Variable: TSH_measured_y       Importance: 0.0\n",
            "Variable: T3_measured_y        Importance: 0.0\n",
            "Variable: TT4_measured_y       Importance: 0.0\n",
            "Variable: T4U_measured_y       Importance: 0.0\n",
            "Variable: FTI_measured_y       Importance: 0.0\n"
          ],
          "name": "stdout"
        }
      ]
    },
    {
      "cell_type": "code",
      "metadata": {
        "id": "3tOw4VAYFTRu",
        "colab_type": "code",
        "outputId": "3ffc6bbe-e3bc-4305-86d9-71101001059f",
        "colab": {
          "base_uri": "https://localhost:8080/",
          "height": 665
        }
      },
      "source": [
        "# Representing the feature importance visually\n",
        "\n",
        "# Import matplotlib for plotting and use magic command for Jupyter Notebooks\n",
        "import matplotlib.pyplot as plt\n",
        "\n",
        "# list of x locations for plotting\n",
        "x_values = list(range(len(importance)))\n",
        "# Make a bar chart\n",
        "plt.bar(x_values, importance, orientation = 'vertical')\n",
        "# Tick labels for x axis\n",
        "plt.xticks(x_values, test_features_X, rotation='vertical')\n",
        "# Axis labels and title\n",
        "plt.ylabel('Importance'); plt.xlabel('Variable'); plt.title('Variable Importances');\n"
      ],
      "execution_count": 43,
      "outputs": [
        {
          "output_type": "display_data",
          "data": {
            "image/png": "[encoded data removed]",
            "text/plain": [
              "<Figure size 720x576 with 1 Axes>"
            ]
          },
          "metadata": {
            "tags": []
          }
        }
      ]
    },
    {
      "cell_type": "markdown",
      "metadata": {
        "id": "922-7Ab0RWYX",
        "colab_type": "text"
      },
      "source": [
        "The features with the highest importance are FTI, TSH, on antithyroid medication and query hypothyroid."
      ]
    },
    {
      "cell_type": "code",
      "metadata": {
        "id": "P5-yP7x_mftD",
        "colab_type": "code",
        "colab": {
          "base_uri": "https://localhost:8080/",
          "height": 34
        },
        "outputId": "61f9f34c-2afe-41ac-84c3-77eec1ce56c6"
      },
      "source": [
        "# Checking accuracy\n",
        "\n",
        "#print( accuracy_score(y_test, y_pred.round()))\n",
        "print( accuracy_score(y_test, y_pred))"
      ],
      "execution_count": 47,
      "outputs": [
        {
          "output_type": "stream",
          "text": [
            "0.9857549857549858\n"
          ],
          "name": "stdout"
        }
      ]
    },
    {
      "cell_type": "markdown",
      "metadata": {
        "id": "LP3erc2Uramj",
        "colab_type": "text"
      },
      "source": [
        "Random Forest Accuracy is 98.5%"
      ]
    },
    {
      "cell_type": "markdown",
      "metadata": {
        "id": "q2m6vr8jIEzT",
        "colab_type": "text"
      },
      "source": [
        "## Adaboost"
      ]
    },
    {
      "cell_type": "code",
      "metadata": {
        "id": "61OkTgxOIH28",
        "colab_type": "code",
        "colab": {}
      },
      "source": [
        "from sklearn.ensemble import AdaBoostRegressor\n",
        "from sklearn.ensemble import RandomForestRegressor\n",
        "\n",
        "\n",
        "# Note that adaboost needs a simple decision tree in its constructor. \n",
        "ada_boost = AdaBoostRegressor(RandomForestRegressor(max_depth=5),\n",
        "                          n_estimators=300, random_state=10)\n",
        "\n",
        "ada_boost = ada_boost.fit(X_train, y_train)\n",
        "\n",
        "#making predictions\n",
        "y_pred_ada = ada_boost.predict(X_test)\n",
        "# y_pred= pd.DataFrame({'Actual': y_test, 'Predicted': y_pred})\n",
        "# y_pred\n",
        "\n"
      ],
      "execution_count": 0,
      "outputs": []
    },
    {
      "cell_type": "code",
      "metadata": {
        "id": "1nlZfTIvJzKr",
        "colab_type": "code",
        "outputId": "b3736e45-dbc1-4a43-d67c-984880845709",
        "colab": {
          "base_uri": "https://localhost:8080/",
          "height": 68
        }
      },
      "source": [
        "# Assessing the errors\n",
        "\n",
        "a = metrics.mean_absolute_error(y_test, y_pred_ada)\n",
        "print('Mean Absolute Error:' + str(a))\n",
        "b = metrics.mean_squared_error(y_test, y_pred_ada) \n",
        "print('Mean Squared Error:' + str(b))  \n",
        "c = np.sqrt(metrics.mean_squared_error(y_test, y_pred_ada)) \n",
        "print('Root Mean Squared Error:' + str(c))\n"
      ],
      "execution_count": 84,
      "outputs": [
        {
          "output_type": "stream",
          "text": [
            "Mean Absolute Error:0.04029324593435684\n",
            "Mean Squared Error:0.01202749380054424\n",
            "Root Mean Squared Error:0.10966993115956734\n"
          ],
          "name": "stdout"
        }
      ]
    },
    {
      "cell_type": "code",
      "metadata": {
        "id": "MFtsb1le1xPG",
        "colab_type": "code",
        "colab": {
          "base_uri": "https://localhost:8080/",
          "height": 34
        },
        "outputId": "13524fd2-e889-4a96-dbc9-3ab55b907346"
      },
      "source": [
        "# Checking accuracy\n",
        "\n",
        "print( accuracy_score(y_test, y_pred_ada.round()))\n",
        "#print( accuracy_score(y_test, y_pred_ada))"
      ],
      "execution_count": 87,
      "outputs": [
        {
          "output_type": "stream",
          "text": [
            "0.99002849002849\n"
          ],
          "name": "stdout"
        }
      ]
    },
    {
      "cell_type": "code",
      "metadata": {
        "id": "cMfXndUQ4nIf",
        "colab_type": "code",
        "outputId": "52f29362-1c37-4726-999a-9bb939bfc81b",
        "colab": {
          "base_uri": "https://localhost:8080/",
          "height": 238
        }
      },
      "source": [
        "#Hyperparameter tuning\n",
        "#\n",
        "from sklearn.model_selection import RandomizedSearchCV\n",
        "\n",
        "param_dist = {\n",
        " 'n_estimators': [50, 300],\n",
        " 'learning_rate' : [0.01,0.05,0.1,0.3,1],\n",
        " 'loss' : ['linear', 'square', 'exponential']\n",
        " }\n",
        "\n",
        "pre_gs_inst = RandomizedSearchCV(AdaBoostRegressor(),\n",
        " param_distributions = param_dist, \n",
        " cv=3,\n",
        " n_iter = 10,\n",
        " n_jobs=-1, random_state = 42)\n",
        "\n",
        "pre_gs_inst.fit(X_train, y_train)"
      ],
      "execution_count": 88,
      "outputs": [
        {
          "output_type": "execute_result",
          "data": {
            "text/plain": [
              "RandomizedSearchCV(cv=3, error_score=nan,\n",
              "                   estimator=AdaBoostRegressor(base_estimator=None,\n",
              "                                               learning_rate=1.0, loss='linear',\n",
              "                                               n_estimators=50,\n",
              "                                               random_state=None),\n",
              "                   iid='deprecated', n_iter=10, n_jobs=-1,\n",
              "                   param_distributions={'learning_rate': [0.01, 0.05, 0.1, 0.3,\n",
              "                                                          1],\n",
              "                                        'loss': ['linear', 'square',\n",
              "                                                 'exponential'],\n",
              "                                        'n_estimators': [50, 300]},\n",
              "                   pre_dispatch='2*n_jobs', random_state=42, refit=True,\n",
              "                   return_train_score=False, scoring=None, verbose=0)"
            ]
          },
          "metadata": {
            "tags": []
          },
          "execution_count": 88
        }
      ]
    },
    {
      "cell_type": "code",
      "metadata": {
        "id": "E8lt_QKC5C20",
        "colab_type": "code",
        "outputId": "3a25da78-b6e2-4c12-da92-8999cb074eda",
        "colab": {
          "base_uri": "https://localhost:8080/",
          "height": 34
        }
      },
      "source": [
        "# getting the best parameters\n",
        "\n",
        "pre_gs_inst.best_params_"
      ],
      "execution_count": 89,
      "outputs": [
        {
          "output_type": "execute_result",
          "data": {
            "text/plain": [
              "{'learning_rate': 0.01, 'loss': 'linear', 'n_estimators': 50}"
            ]
          },
          "metadata": {
            "tags": []
          },
          "execution_count": 89
        }
      ]
    },
    {
      "cell_type": "markdown",
      "metadata": {
        "id": "fj0uUGxqCk8D",
        "colab_type": "text"
      },
      "source": [
        "Now we fit our ada boost using the parameters we got from hyperparameter tuning\n",
        "\n"
      ]
    },
    {
      "cell_type": "code",
      "metadata": {
        "id": "G-5n8eHbCtxS",
        "colab_type": "code",
        "colab": {}
      },
      "source": [
        "#Fitting adaboost regressor\n",
        "\n",
        "from sklearn.ensemble import AdaBoostRegressor\n",
        "ada_boost = AdaBoostRegressor(RandomForestRegressor(max_depth=6),\n",
        "                          n_estimators=50, random_state=42, learning_rate = 0.01, loss= 'linear' )\n",
        "\n",
        "ada_boost = ada_boost.fit(X_train, y_train)"
      ],
      "execution_count": 0,
      "outputs": []
    },
    {
      "cell_type": "code",
      "metadata": {
        "id": "rwDnZm-nC3mh",
        "colab_type": "code",
        "outputId": "fbc34cda-3d62-429b-9b63-cd431c1f6666",
        "colab": {
          "base_uri": "https://localhost:8080/",
          "height": 204
        }
      },
      "source": [
        "#Making predictions\n",
        "#\n",
        "y_pred_ada1 = ada_boost.predict(X_test)\n",
        "ada = pd.DataFrame({'actual': y_test, 'predicted': y_pred_ada1})\n",
        "ada.head()"
      ],
      "execution_count": 95,
      "outputs": [
        {
          "output_type": "execute_result",
          "data": {
            "text/html": [
              "<div>\n",
              "<style scoped>\n",
              "    .dataframe tbody tr th:only-of-type {\n",
              "        vertical-align: middle;\n",
              "    }\n",
              "\n",
              "    .dataframe tbody tr th {\n",
              "        vertical-align: top;\n",
              "    }\n",
              "\n",
              "    .dataframe thead th {\n",
              "        text-align: right;\n",
              "    }\n",
              "</style>\n",
              "<table border=\"1\" class=\"dataframe\">\n",
              "  <thead>\n",
              "    <tr style=\"text-align: right;\">\n",
              "      <th></th>\n",
              "      <th>actual</th>\n",
              "      <th>predicted</th>\n",
              "    </tr>\n",
              "  </thead>\n",
              "  <tbody>\n",
              "    <tr>\n",
              "      <th>0</th>\n",
              "      <td>1</td>\n",
              "      <td>1.000000</td>\n",
              "    </tr>\n",
              "    <tr>\n",
              "      <th>1</th>\n",
              "      <td>1</td>\n",
              "      <td>1.000000</td>\n",
              "    </tr>\n",
              "    <tr>\n",
              "      <th>2</th>\n",
              "      <td>0</td>\n",
              "      <td>0.015747</td>\n",
              "    </tr>\n",
              "    <tr>\n",
              "      <th>3</th>\n",
              "      <td>1</td>\n",
              "      <td>1.000000</td>\n",
              "    </tr>\n",
              "    <tr>\n",
              "      <th>4</th>\n",
              "      <td>1</td>\n",
              "      <td>1.000000</td>\n",
              "    </tr>\n",
              "  </tbody>\n",
              "</table>\n",
              "</div>"
            ],
            "text/plain": [
              "   actual  predicted\n",
              "0       1   1.000000\n",
              "1       1   1.000000\n",
              "2       0   0.015747\n",
              "3       1   1.000000\n",
              "4       1   1.000000"
            ]
          },
          "metadata": {
            "tags": []
          },
          "execution_count": 95
        }
      ]
    },
    {
      "cell_type": "code",
      "metadata": {
        "id": "072VhuStC_Hd",
        "colab_type": "code",
        "outputId": "43e9018c-a8f8-4212-ce6a-1f0358c9c3a5",
        "colab": {
          "base_uri": "https://localhost:8080/",
          "height": 68
        }
      },
      "source": [
        "# Assessing the errors\n",
        "\n",
        "a = metrics.mean_absolute_error(y_test, y_pred_ada1)\n",
        "print('Mean Absolute Error:' + str(a))\n",
        "b = metrics.mean_squared_error(y_test, y_pred_ada1) \n",
        "print('Mean Squared Error:' + str(b))  \n",
        "c = np.sqrt(metrics.mean_squared_error(y_test, y_pred_ada1)) \n",
        "print('Root Mean Squared Error:' + str(c))"
      ],
      "execution_count": 96,
      "outputs": [
        {
          "output_type": "stream",
          "text": [
            "Mean Absolute Error:0.019003770596568104\n",
            "Mean Squared Error:0.009122889925528245\n",
            "Root Mean Squared Error:0.09551382059957735\n"
          ],
          "name": "stdout"
        }
      ]
    },
    {
      "cell_type": "code",
      "metadata": {
        "id": "TSTOICsTsWIb",
        "colab_type": "code",
        "colab": {
          "base_uri": "https://localhost:8080/",
          "height": 34
        },
        "outputId": "c44ff61c-f72a-4058-97ff-37d63ea61b16"
      },
      "source": [
        "# Checking accuracy\n",
        "\n",
        "print( accuracy_score(y_test, y_pred_ada1.round()))\n",
        "#print( accuracy_score(y_test, y_pred_ada))"
      ],
      "execution_count": 97,
      "outputs": [
        {
          "output_type": "stream",
          "text": [
            "0.99002849002849\n"
          ],
          "name": "stdout"
        }
      ]
    },
    {
      "cell_type": "markdown",
      "metadata": {
        "id": "Pl-Gx3Bk0lOD",
        "colab_type": "text"
      },
      "source": [
        "## Gradient Boosting"
      ]
    },
    {
      "cell_type": "code",
      "metadata": {
        "id": "CNLLb2iPLl_V",
        "colab_type": "code",
        "colab": {
          "base_uri": "https://localhost:8080/",
          "height": 204
        },
        "outputId": "4c5760fe-f0f2-40ba-b018-b85458b93595"
      },
      "source": [
        "from sklearn.ensemble import GradientBoostingRegressor\n",
        "target_number_of_trees = 300\n",
        "\n",
        "gbr = GradientBoostingRegressor()\n",
        "gbr = gbr.fit(X_train, y_train)\n",
        "\n",
        "#Making predictions\n",
        "#\n",
        "y_pred_gbr = gbr.predict(X_test)\n",
        "D = pd.DataFrame({'actual': y_test, 'predicted': y_pred_gbr})\n",
        "D.head()"
      ],
      "execution_count": 98,
      "outputs": [
        {
          "output_type": "execute_result",
          "data": {
            "text/html": [
              "<div>\n",
              "<style scoped>\n",
              "    .dataframe tbody tr th:only-of-type {\n",
              "        vertical-align: middle;\n",
              "    }\n",
              "\n",
              "    .dataframe tbody tr th {\n",
              "        vertical-align: top;\n",
              "    }\n",
              "\n",
              "    .dataframe thead th {\n",
              "        text-align: right;\n",
              "    }\n",
              "</style>\n",
              "<table border=\"1\" class=\"dataframe\">\n",
              "  <thead>\n",
              "    <tr style=\"text-align: right;\">\n",
              "      <th></th>\n",
              "      <th>actual</th>\n",
              "      <th>predicted</th>\n",
              "    </tr>\n",
              "  </thead>\n",
              "  <tbody>\n",
              "    <tr>\n",
              "      <th>0</th>\n",
              "      <td>1</td>\n",
              "      <td>0.999663</td>\n",
              "    </tr>\n",
              "    <tr>\n",
              "      <th>1</th>\n",
              "      <td>1</td>\n",
              "      <td>1.000557</td>\n",
              "    </tr>\n",
              "    <tr>\n",
              "      <th>2</th>\n",
              "      <td>0</td>\n",
              "      <td>0.021524</td>\n",
              "    </tr>\n",
              "    <tr>\n",
              "      <th>3</th>\n",
              "      <td>1</td>\n",
              "      <td>0.999953</td>\n",
              "    </tr>\n",
              "    <tr>\n",
              "      <th>4</th>\n",
              "      <td>1</td>\n",
              "      <td>0.999937</td>\n",
              "    </tr>\n",
              "  </tbody>\n",
              "</table>\n",
              "</div>"
            ],
            "text/plain": [
              "   actual  predicted\n",
              "0       1   0.999663\n",
              "1       1   1.000557\n",
              "2       0   0.021524\n",
              "3       1   0.999953\n",
              "4       1   0.999937"
            ]
          },
          "metadata": {
            "tags": []
          },
          "execution_count": 98
        }
      ]
    },
    {
      "cell_type": "code",
      "metadata": {
        "id": "PIyfTTmjDLNd",
        "colab_type": "code",
        "outputId": "73e8416c-7e1e-4db7-c2d4-7208683909b0",
        "colab": {
          "base_uri": "https://localhost:8080/",
          "height": 68
        }
      },
      "source": [
        "# Assessing the errors\n",
        "\n",
        "d = metrics.mean_absolute_error(y_test, y_pred_ada)\n",
        "print('Mean Absolute Error:' + str(d))\n",
        "e = metrics.mean_squared_error(y_test, y_pred_ada) \n",
        "print('Mean Squared Error:' + str(e))  \n",
        "f = np.sqrt(metrics.mean_squared_error(y_test, y_pred_ada)) \n",
        "print('Root Mean Squared Error:' + str(f))"
      ],
      "execution_count": 99,
      "outputs": [
        {
          "output_type": "stream",
          "text": [
            "Mean Absolute Error:0.019003770596568104\n",
            "Mean Squared Error:0.009122889925528245\n",
            "Root Mean Squared Error:0.09551382059957735\n"
          ],
          "name": "stdout"
        }
      ]
    },
    {
      "cell_type": "code",
      "metadata": {
        "id": "dLzmuKjs2zxm",
        "colab_type": "code",
        "colab": {
          "base_uri": "https://localhost:8080/",
          "height": 34
        },
        "outputId": "2a211bd9-8f7f-42bb-90cc-4916a5b3db2d"
      },
      "source": [
        "# Checking accuracy\n",
        "\n",
        "print( accuracy_score(y_test, y_pred_gbr.round()))\n",
        "#print( accuracy_score(y_test, y_pred_ada))"
      ],
      "execution_count": 100,
      "outputs": [
        {
          "output_type": "stream",
          "text": [
            "0.9871794871794872\n"
          ],
          "name": "stdout"
        }
      ]
    },
    {
      "cell_type": "code",
      "metadata": {
        "id": "mipYSK-hEPDF",
        "colab_type": "code",
        "outputId": "5c64fd86-0054-40b7-922c-9e1fdfa7f909",
        "colab": {
          "base_uri": "https://localhost:8080/",
          "height": 510
        }
      },
      "source": [
        "# Hyperparameter tuning for gradient boost\n",
        "\n",
        "param_dist = {\n",
        " 'n_estimators': [50, 300],\n",
        " 'learning_rate' :[0.01,0.05,0.1,0.3,1],\n",
        " 'max_depth': [1,2,3,4,5,6,7,8,9,10]\n",
        " }\n",
        "\n",
        "pre_gbr_inst = RandomizedSearchCV(GradientBoostingRegressor(),\n",
        " param_distributions = param_dist,\n",
        " cv=6,\n",
        " n_iter = 10,\n",
        " n_jobs=-1, random_state = 25)\n",
        "\n",
        "pre_gbr_inst.fit(X_train, y_train)"
      ],
      "execution_count": 101,
      "outputs": [
        {
          "output_type": "execute_result",
          "data": {
            "text/plain": [
              "RandomizedSearchCV(cv=6, error_score=nan,\n",
              "                   estimator=GradientBoostingRegressor(alpha=0.9, ccp_alpha=0.0,\n",
              "                                                       criterion='friedman_mse',\n",
              "                                                       init=None,\n",
              "                                                       learning_rate=0.1,\n",
              "                                                       loss='ls', max_depth=3,\n",
              "                                                       max_features=None,\n",
              "                                                       max_leaf_nodes=None,\n",
              "                                                       min_impurity_decrease=0.0,\n",
              "                                                       min_impurity_split=None,\n",
              "                                                       min_samples_leaf=1,\n",
              "                                                       min_samples_split=2,\n",
              "                                                       min_weight_fraction_leaf=0.0,\n",
              "                                                       n_estimators=100,\n",
              "                                                       n_...\n",
              "                                                       random_state=None,\n",
              "                                                       subsample=1.0,\n",
              "                                                       tol=0.0001,\n",
              "                                                       validation_fraction=0.1,\n",
              "                                                       verbose=0,\n",
              "                                                       warm_start=False),\n",
              "                   iid='deprecated', n_iter=10, n_jobs=-1,\n",
              "                   param_distributions={'learning_rate': [0.01, 0.05, 0.1, 0.3,\n",
              "                                                          1],\n",
              "                                        'max_depth': [1, 2, 3, 4, 5, 6, 7, 8, 9,\n",
              "                                                      10],\n",
              "                                        'n_estimators': [50, 300]},\n",
              "                   pre_dispatch='2*n_jobs', random_state=25, refit=True,\n",
              "                   return_train_score=False, scoring=None, verbose=0)"
            ]
          },
          "metadata": {
            "tags": []
          },
          "execution_count": 101
        }
      ]
    },
    {
      "cell_type": "code",
      "metadata": {
        "id": "EhOBl1ocEjQo",
        "colab_type": "code",
        "outputId": "cf93ed34-05d1-4f5c-a979-230788a882ad",
        "colab": {
          "base_uri": "https://localhost:8080/",
          "height": 34
        }
      },
      "source": [
        "# getting the best parameters\n",
        "\n",
        "pre_gbr_inst.best_params_\n"
      ],
      "execution_count": 102,
      "outputs": [
        {
          "output_type": "execute_result",
          "data": {
            "text/plain": [
              "{'learning_rate': 0.05, 'max_depth': 7, 'n_estimators': 300}"
            ]
          },
          "metadata": {
            "tags": []
          },
          "execution_count": 102
        }
      ]
    },
    {
      "cell_type": "markdown",
      "metadata": {
        "id": "eVONDCHSEzLK",
        "colab_type": "text"
      },
      "source": [
        "Now we use the parameters we got from our hyperparameter tuning to see how it affects the model."
      ]
    },
    {
      "cell_type": "code",
      "metadata": {
        "id": "n9qmoEgSE8Tt",
        "colab_type": "code",
        "outputId": "c6ffa3ae-31c1-4d1a-e831-478991f66c13",
        "colab": {
          "base_uri": "https://localhost:8080/",
          "height": 204
        }
      },
      "source": [
        "# training the model with Gboost\n",
        "#\n",
        "from sklearn.ensemble import GradientBoostingRegressor\n",
        "\n",
        "gbr = GradientBoostingRegressor(n_estimators=300, learning_rate=0.1, max_depth=3)\n",
        "gbr = gbr.fit(X_train, y_train)\n",
        "\n",
        "#Making predictions\n",
        "#\n",
        "y_pred_gbr1 = gbr.predict(X_test)\n",
        "gb_pred = pd.DataFrame({'actual': y_test, 'predicted': y_pred_gbr1})\n",
        "gb_pred.head()"
      ],
      "execution_count": 104,
      "outputs": [
        {
          "output_type": "execute_result",
          "data": {
            "text/html": [
              "<div>\n",
              "<style scoped>\n",
              "    .dataframe tbody tr th:only-of-type {\n",
              "        vertical-align: middle;\n",
              "    }\n",
              "\n",
              "    .dataframe tbody tr th {\n",
              "        vertical-align: top;\n",
              "    }\n",
              "\n",
              "    .dataframe thead th {\n",
              "        text-align: right;\n",
              "    }\n",
              "</style>\n",
              "<table border=\"1\" class=\"dataframe\">\n",
              "  <thead>\n",
              "    <tr style=\"text-align: right;\">\n",
              "      <th></th>\n",
              "      <th>actual</th>\n",
              "      <th>predicted</th>\n",
              "    </tr>\n",
              "  </thead>\n",
              "  <tbody>\n",
              "    <tr>\n",
              "      <th>0</th>\n",
              "      <td>1</td>\n",
              "      <td>0.999459</td>\n",
              "    </tr>\n",
              "    <tr>\n",
              "      <th>1</th>\n",
              "      <td>1</td>\n",
              "      <td>0.999146</td>\n",
              "    </tr>\n",
              "    <tr>\n",
              "      <th>2</th>\n",
              "      <td>0</td>\n",
              "      <td>0.011662</td>\n",
              "    </tr>\n",
              "    <tr>\n",
              "      <th>3</th>\n",
              "      <td>1</td>\n",
              "      <td>0.999875</td>\n",
              "    </tr>\n",
              "    <tr>\n",
              "      <th>4</th>\n",
              "      <td>1</td>\n",
              "      <td>0.999922</td>\n",
              "    </tr>\n",
              "  </tbody>\n",
              "</table>\n",
              "</div>"
            ],
            "text/plain": [
              "   actual  predicted\n",
              "0       1   0.999459\n",
              "1       1   0.999146\n",
              "2       0   0.011662\n",
              "3       1   0.999875\n",
              "4       1   0.999922"
            ]
          },
          "metadata": {
            "tags": []
          },
          "execution_count": 104
        }
      ]
    },
    {
      "cell_type": "code",
      "metadata": {
        "id": "Zmd3--6wFWBz",
        "colab_type": "code",
        "outputId": "124bcc0c-dde4-4240-8475-0aa74d2bc4bc",
        "colab": {
          "base_uri": "https://localhost:8080/",
          "height": 68
        }
      },
      "source": [
        "#  Assessing the errors\n",
        "\n",
        "d = metrics.mean_absolute_error(y_test, y_pred_gbr1)\n",
        "print('Mean Absolute Error:' + str(d))\n",
        "e = metrics.mean_squared_error(y_test, y_pred_gbr1) \n",
        "print('Mean Squared Error:' + str(e))  \n",
        "f = np.sqrt(metrics.mean_squared_error(y_test, y_pred_gbr1)) \n",
        "print('Root Mean Squared Error:' + str(f))"
      ],
      "execution_count": 105,
      "outputs": [
        {
          "output_type": "stream",
          "text": [
            "Mean Absolute Error:0.022491240459696495\n",
            "Mean Squared Error:0.011241201361431469\n",
            "Root Mean Squared Error:0.10602453188499097\n"
          ],
          "name": "stdout"
        }
      ]
    },
    {
      "cell_type": "code",
      "metadata": {
        "id": "HjbXMZidsbE0",
        "colab_type": "code",
        "colab": {
          "base_uri": "https://localhost:8080/",
          "height": 34
        },
        "outputId": "73436b85-72e4-4e45-e1ea-c59959c3e867"
      },
      "source": [
        "# Checking accuracy\n",
        "\n",
        "print( accuracy_score(y_test, y_pred_gbr1.round()))\n",
        "#print( accuracy_score(y_test, y_pred_ada))"
      ],
      "execution_count": 106,
      "outputs": [
        {
          "output_type": "stream",
          "text": [
            "0.9871794871794872\n"
          ],
          "name": "stdout"
        }
      ]
    },
    {
      "cell_type": "markdown",
      "metadata": {
        "id": "FSY-j6iz21F0",
        "colab_type": "text"
      },
      "source": [
        "## Support Vector Machine"
      ]
    },
    {
      "cell_type": "code",
      "metadata": {
        "id": "zZpguLee9IRP",
        "colab_type": "code",
        "colab": {}
      },
      "source": [
        "# Import Suport Vector Classifier module from svm library. We'll use SVC to model our data\n",
        "from sklearn.svm import SVC,LinearSVC\n",
        "from sklearn.model_selection import train_test_split\n",
        "# Import scikit-learn metrics module for accuracy calculation\n",
        "from sklearn.metrics import  accuracy_score\n",
        "from sklearn.metrics import confusion_matrix\n",
        "from sklearn.metrics import f1_score\n",
        "from sklearn.model_selection import train_test_split, GridSearchCV, RandomizedSearchCV, KFold, cross_val_score"
      ],
      "execution_count": 0,
      "outputs": []
    },
    {
      "cell_type": "markdown",
      "metadata": {
        "id": "0cIrljyF6L3K",
        "colab_type": "text"
      },
      "source": [
        "Using Linear kernel"
      ]
    },
    {
      "cell_type": "code",
      "metadata": {
        "id": "6a4fYfrz1gsj",
        "colab_type": "code",
        "outputId": "26c6de3d-6a3d-4a55-fe98-a57c79a4373b",
        "colab": {
          "base_uri": "https://localhost:8080/",
          "height": 85
        }
      },
      "source": [
        "# Fitting the model, making predictions and evaluating the model\n",
        "# Fit the model\n",
        "model = SVC(kernel = 'linear')\n",
        "model.fit(X_train, y_train)\n",
        "\n",
        "# making prediction\n",
        "y_pred = model.predict(X_test)\n",
        "\n",
        "\n",
        "# getting the accuracy of the model\n",
        "print(accuracy_score(y_test, y_pred))\n",
        "print(f1_score(y_test, y_pred))\n",
        "print(confusion_matrix(y_test, y_pred))"
      ],
      "execution_count": 70,
      "outputs": [
        {
          "output_type": "stream",
          "text": [
            "0.9786324786324786\n",
            "0.9887808526551981\n",
            "[[ 26  13]\n",
            " [  2 661]]\n"
          ],
          "name": "stdout"
        }
      ]
    },
    {
      "cell_type": "markdown",
      "metadata": {
        "id": "xPzVo6idzebx",
        "colab_type": "text"
      },
      "source": [
        "Linear kernel accuracy is 97.9%"
      ]
    },
    {
      "cell_type": "markdown",
      "metadata": {
        "id": "ZOWhnwhu6VS5",
        "colab_type": "text"
      },
      "source": [
        "Using Polynomial Kernel"
      ]
    },
    {
      "cell_type": "code",
      "metadata": {
        "id": "oOgE1r-z6YRZ",
        "colab_type": "code",
        "outputId": "d1cb1f3d-cf37-4252-eb23-2cafa8d0a26f",
        "colab": {
          "base_uri": "https://localhost:8080/",
          "height": 85
        }
      },
      "source": [
        "# Fitting the model, making predictions and evaluating the model\n",
        "\n",
        "# Building the model \n",
        "\n",
        "polyclassifier = SVC(kernel='poly',degree=3,gamma='scale')\n",
        "\n",
        "# Training the model using the training set\n",
        "\n",
        "polyclassifier.fit(X_train, y_train)\n",
        "\n",
        "\n",
        "# making prediction\n",
        "y_pred1 = polyclassifier.predict(X_test)\n",
        "\n",
        "\n",
        "# getting the accuracy of the model\n",
        "\n",
        "print(accuracy_score(y_test, y_pred1))\n",
        "print(f1_score(y_test, y_pred1))\n",
        "print(confusion_matrix(y_test, y_pred1))"
      ],
      "execution_count": 81,
      "outputs": [
        {
          "output_type": "stream",
          "text": [
            "0.9629629629629629\n",
            "0.9807407407407407\n",
            "[[ 14  25]\n",
            " [  1 662]]\n"
          ],
          "name": "stdout"
        }
      ]
    },
    {
      "cell_type": "markdown",
      "metadata": {
        "id": "V7bXt9hjzmK9",
        "colab_type": "text"
      },
      "source": [
        "Polynomial kernel accuracy is 96.3%"
      ]
    },
    {
      "cell_type": "markdown",
      "metadata": {
        "id": "FUu52bMV6fIq",
        "colab_type": "text"
      },
      "source": [
        "Using rbf kernel"
      ]
    },
    {
      "cell_type": "code",
      "metadata": {
        "id": "pTxqpqTk6hy2",
        "colab_type": "code",
        "outputId": "13f898d9-d36f-43c0-d44d-035e0049dc64",
        "colab": {
          "base_uri": "https://localhost:8080/",
          "height": 85
        }
      },
      "source": [
        "#Fitting the model, making predictions and evaluating the model\n",
        "\n",
        "# Building the model \n",
        "\n",
        "rbfclassifier = SVC(kernel='rbf')\n",
        "\n",
        "# Training the model using the training set\n",
        "\n",
        "rbfclassifier.fit(X_train, y_train)\n",
        "\n",
        "# making prediction\n",
        "y_pred2 = rbfclassifier.predict(X_test)\n",
        "\n",
        "# Model Evaluation\n",
        "print( accuracy_score(y_test, y_pred2))\n",
        "# Measuring the accuracy of the model\n",
        "print(f1_score(y_test, y_pred2))\n",
        "print(confusion_matrix(y_test, y_pred2))"
      ],
      "execution_count": 82,
      "outputs": [
        {
          "output_type": "stream",
          "text": [
            "0.98005698005698\n",
            "0.9895052473763118\n",
            "[[ 28  11]\n",
            " [  3 660]]\n"
          ],
          "name": "stdout"
        }
      ]
    },
    {
      "cell_type": "markdown",
      "metadata": {
        "id": "EX3D4_l9z5Nw",
        "colab_type": "text"
      },
      "source": [
        "rbf kernel accuracy score is 98%"
      ]
    },
    {
      "cell_type": "code",
      "metadata": {
        "id": "xOjr8tolFsHJ",
        "colab_type": "code",
        "colab": {}
      },
      "source": [
        "# Hyperparameter tuning for SVM Using all the kernels\n",
        "\n",
        "# Creating a dictionary of parameters to tune\n",
        "\n",
        "param_grid = {'C': (0.001, 0.01, 0.1, 1, 10),\n",
        "              'kernel': ('linear', 'poly', 'rbf'),\n",
        "              'class_weight': ('balanced', None),\n",
        "              'gamma' : ('scale', 'auto'),\n",
        "              'shrinking': (True, False)}\n",
        "\n",
        "grid_search = GridSearchCV(SVC(gamma='scale'), param_grid, cv=5)"
      ],
      "execution_count": 0,
      "outputs": []
    },
    {
      "cell_type": "code",
      "metadata": {
        "id": "ysNmGteKGQzb",
        "colab_type": "code",
        "colab": {}
      },
      "source": [
        "grid_search.fit(X,y)\n",
        "print (grid_search.best_params_)\n",
        "abs(grid_search.best_score_)"
      ],
      "execution_count": 0,
      "outputs": []
    },
    {
      "cell_type": "code",
      "metadata": {
        "id": "7EF7ituKG0Y0",
        "colab_type": "code",
        "colab": {}
      },
      "source": [
        "grid_results = grid_search.fit(X_train, y_train)\n",
        "\n",
        "print(grid_results.best_score_)\n",
        "print(grid_results.best_estimator_)\n",
        "print(grid_results.best_params_)"
      ],
      "execution_count": 0,
      "outputs": []
    },
    {
      "cell_type": "code",
      "metadata": {
        "id": "CbuIuDinG_0D",
        "colab_type": "code",
        "colab": {
          "base_uri": "https://localhost:8080/",
          "height": 85
        },
        "outputId": "ba407820-9c35-43ed-df5d-de3a1ea9a846"
      },
      "source": [
        "svm_model = SVC(random_state = 42, C = 10, class_weight = 'balanced', gamma = 'scale', kernel = 'poly', shrinking = True, )\n",
        "# Train the model using the training set\n",
        "#\n",
        "svm_model.fit(X_train,y_train)"
      ],
      "execution_count": 77,
      "outputs": [
        {
          "output_type": "execute_result",
          "data": {
            "text/plain": [
              "SVC(C=10, break_ties=False, cache_size=200, class_weight='balanced', coef0=0.0,\n",
              "    decision_function_shape='ovr', degree=3, gamma='scale', kernel='poly',\n",
              "    max_iter=-1, probability=False, random_state=42, shrinking=True, tol=0.001,\n",
              "    verbose=False)"
            ]
          },
          "metadata": {
            "tags": []
          },
          "execution_count": 77
        }
      ]
    },
    {
      "cell_type": "code",
      "metadata": {
        "id": "vkfmt796w9IO",
        "colab_type": "code",
        "colab": {}
      },
      "source": [
        "# Creating a dictionary of parameters to tune\n",
        "#\n",
        "params = {'C': np.arange(1, 102, 10),\n",
        "         'gamma': np.linspace(2**-5, 2**5, 10)}\n",
        "\n",
        "# Setting the number of folds to 10 and instantiating the model\n",
        "# \n",
        "kfold = KFold(n_splits=3, shuffle=True)\n",
        "model = SVC(kernel = 'linear')\n",
        "\n",
        "search = RandomizedSearchCV(model, param_distributions=params, scoring = 'f1', cv = kfold, random_state = 0)\n",
        "\n",
        "# Selecting the independent variables and the target variable\n",
        "#\n",
        "X = hypothyroid[['FTI', 'TSH']]\n",
        "y = np.where(hypothyroid.status == 'hypothyroid', 1, 0)\n",
        "\n",
        "# Fitting the grid search with the X and the y variables\n",
        "#\n",
        "search.fit(X, y)\n",
        "\n",
        "# Checking for the best parameters\n",
        "#\n",
        "print(f'The best parameters are: {search.best_params_}')"
      ],
      "execution_count": 0,
      "outputs": []
    },
    {
      "cell_type": "markdown",
      "metadata": {
        "id": "PdbjT7CH4fnD",
        "colab_type": "text"
      },
      "source": [
        "# Challenging the Solution\n",
        "\n",
        "We could use other models like sigmoid to get the accuracies for comparison. "
      ]
    },
    {
      "cell_type": "markdown",
      "metadata": {
        "id": "ZHuBxMEk5lEy",
        "colab_type": "text"
      },
      "source": [
        "# Conclusion\n",
        "\n",
        "From the random forest models, the best model we could use is gradient boost with an accuracy of 98.7%\n",
        "\n",
        "For support Vector Machine, rbf kernel gave us the best accuracy with 98% accuracy.."
      ]
    }
  ]
}